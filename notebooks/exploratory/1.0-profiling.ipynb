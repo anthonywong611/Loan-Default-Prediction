{
 "cells": [
  {
   "cell_type": "code",
   "execution_count": 2,
   "metadata": {},
   "outputs": [],
   "source": [
    "import numpy as np\n",
    "import pandas as pd\n",
    "import matplotlib.pyplot as plt\n",
    "import plotly.express as px"
   ]
  },
  {
   "cell_type": "code",
   "execution_count": 3,
   "metadata": {},
   "outputs": [],
   "source": [
    "data_loan = pd.read_csv('../../data/raw/Loan.txt', sep='\\t')"
   ]
  },
  {
   "cell_type": "code",
   "execution_count": 4,
   "metadata": {},
   "outputs": [],
   "source": [
    "data_borrower = pd.read_csv('../../data/raw/Borrower.txt', sep='\\t')"
   ]
  },
  {
   "attachments": {},
   "cell_type": "markdown",
   "metadata": {},
   "source": [
    "---"
   ]
  },
  {
   "attachments": {},
   "cell_type": "markdown",
   "metadata": {},
   "source": [
    "# <center>**Loan**</center>"
   ]
  },
  {
   "attachments": {},
   "cell_type": "markdown",
   "metadata": {},
   "source": [
    "---"
   ]
  },
  {
   "cell_type": "code",
   "execution_count": 5,
   "metadata": {},
   "outputs": [
    {
     "data": {
      "text/html": [
       "<div>\n",
       "<style scoped>\n",
       "    .dataframe tbody tr th:only-of-type {\n",
       "        vertical-align: middle;\n",
       "    }\n",
       "\n",
       "    .dataframe tbody tr th {\n",
       "        vertical-align: top;\n",
       "    }\n",
       "\n",
       "    .dataframe thead th {\n",
       "        text-align: right;\n",
       "    }\n",
       "</style>\n",
       "<table border=\"1\" class=\"dataframe\">\n",
       "  <thead>\n",
       "    <tr style=\"text-align: right;\">\n",
       "      <th></th>\n",
       "      <th>loanId</th>\n",
       "      <th>memberId</th>\n",
       "      <th>date</th>\n",
       "      <th>purpose</th>\n",
       "      <th>isJointApplication</th>\n",
       "      <th>loanAmount</th>\n",
       "      <th>term</th>\n",
       "      <th>interestRate</th>\n",
       "      <th>monthlyPayment</th>\n",
       "      <th>grade</th>\n",
       "      <th>loanStatus</th>\n",
       "    </tr>\n",
       "  </thead>\n",
       "  <tbody>\n",
       "    <tr>\n",
       "      <th>0</th>\n",
       "      <td>1888978</td>\n",
       "      <td>2305095</td>\n",
       "      <td>12/10/2014</td>\n",
       "      <td>debtconsolidation</td>\n",
       "      <td>0.0</td>\n",
       "      <td>25190.0</td>\n",
       "      <td>60 months</td>\n",
       "      <td>6.25</td>\n",
       "      <td>490</td>\n",
       "      <td>E3</td>\n",
       "      <td>Current</td>\n",
       "    </tr>\n",
       "    <tr>\n",
       "      <th>1</th>\n",
       "      <td>1299695</td>\n",
       "      <td>2610493</td>\n",
       "      <td>9/15/2014</td>\n",
       "      <td>debtconsolidation</td>\n",
       "      <td>0.0</td>\n",
       "      <td>21189.0</td>\n",
       "      <td>60 months</td>\n",
       "      <td>10.49</td>\n",
       "      <td>455</td>\n",
       "      <td>B3</td>\n",
       "      <td>Current</td>\n",
       "    </tr>\n",
       "    <tr>\n",
       "      <th>2</th>\n",
       "      <td>1875016</td>\n",
       "      <td>2491679</td>\n",
       "      <td>9/11/2014</td>\n",
       "      <td>debtconsolidation</td>\n",
       "      <td>0.0</td>\n",
       "      <td>29908.0</td>\n",
       "      <td>60 months</td>\n",
       "      <td>9.11</td>\n",
       "      <td>622</td>\n",
       "      <td>B2</td>\n",
       "      <td>Current</td>\n",
       "    </tr>\n",
       "    <tr>\n",
       "      <th>3</th>\n",
       "      <td>1440478</td>\n",
       "      <td>2092798</td>\n",
       "      <td>4/22/2016</td>\n",
       "      <td>homeimprovement</td>\n",
       "      <td>0.0</td>\n",
       "      <td>13053.0</td>\n",
       "      <td>48 months</td>\n",
       "      <td>11.89</td>\n",
       "      <td>343</td>\n",
       "      <td>B3</td>\n",
       "      <td>Current</td>\n",
       "    </tr>\n",
       "    <tr>\n",
       "      <th>4</th>\n",
       "      <td>1124634</td>\n",
       "      <td>2633077</td>\n",
       "      <td>2/3/2016</td>\n",
       "      <td>debtconsolidation</td>\n",
       "      <td>0.0</td>\n",
       "      <td>24613.0</td>\n",
       "      <td>60 months</td>\n",
       "      <td>15.13</td>\n",
       "      <td>587</td>\n",
       "      <td>A3</td>\n",
       "      <td>Current</td>\n",
       "    </tr>\n",
       "  </tbody>\n",
       "</table>\n",
       "</div>"
      ],
      "text/plain": [
       "    loanId  memberId        date            purpose  isJointApplication  \\\n",
       "0  1888978   2305095  12/10/2014  debtconsolidation                 0.0   \n",
       "1  1299695   2610493   9/15/2014  debtconsolidation                 0.0   \n",
       "2  1875016   2491679   9/11/2014  debtconsolidation                 0.0   \n",
       "3  1440478   2092798   4/22/2016    homeimprovement                 0.0   \n",
       "4  1124634   2633077    2/3/2016  debtconsolidation                 0.0   \n",
       "\n",
       "   loanAmount       term  interestRate  monthlyPayment grade loanStatus  \n",
       "0     25190.0  60 months          6.25             490    E3    Current  \n",
       "1     21189.0  60 months         10.49             455    B3    Current  \n",
       "2     29908.0  60 months          9.11             622    B2    Current  \n",
       "3     13053.0  48 months         11.89             343    B3    Current  \n",
       "4     24613.0  60 months         15.13             587    A3    Current  "
      ]
     },
     "execution_count": 5,
     "metadata": {},
     "output_type": "execute_result"
    }
   ],
   "source": [
    "data_loan.head()"
   ]
  },
  {
   "cell_type": "code",
   "execution_count": 6,
   "metadata": {},
   "outputs": [
    {
     "name": "stdout",
     "output_type": "stream",
     "text": [
      "<class 'pandas.core.frame.DataFrame'>\n",
      "RangeIndex: 100000 entries, 0 to 99999\n",
      "Data columns (total 11 columns):\n",
      " #   Column              Non-Null Count   Dtype  \n",
      "---  ------              --------------   -----  \n",
      " 0   loanId              100000 non-null  int64  \n",
      " 1   memberId            100000 non-null  int64  \n",
      " 2   date                100000 non-null  object \n",
      " 3   purpose             100000 non-null  object \n",
      " 4   isJointApplication  99029 non-null   float64\n",
      " 5   loanAmount          98994 non-null   float64\n",
      " 6   term                98929 non-null   object \n",
      " 7   interestRate        100000 non-null  float64\n",
      " 8   monthlyPayment      100000 non-null  int64  \n",
      " 9   grade               100000 non-null  object \n",
      " 10  loanStatus          100000 non-null  object \n",
      "dtypes: float64(3), int64(3), object(5)\n",
      "memory usage: 8.4+ MB\n"
     ]
    }
   ],
   "source": [
    "data_loan.info()"
   ]
  },
  {
   "attachments": {},
   "cell_type": "markdown",
   "metadata": {},
   "source": [
    "### **Columns Screen**"
   ]
  },
  {
   "cell_type": "code",
   "execution_count": 7,
   "metadata": {},
   "outputs": [
    {
     "data": {
      "text/plain": [
       "count         100000\n",
       "unique           780\n",
       "top       12/20/2015\n",
       "freq             162\n",
       "Name: date, dtype: object"
      ]
     },
     "execution_count": 7,
     "metadata": {},
     "output_type": "execute_result"
    }
   ],
   "source": [
    "data_loan.date.describe()"
   ]
  },
  {
   "cell_type": "code",
   "execution_count": 8,
   "metadata": {},
   "outputs": [
    {
     "data": {
      "text/plain": [
       "debtconsolidation    81344\n",
       "homeimprovement       8116\n",
       "other                 4118\n",
       "business              3210\n",
       "healthcare            1229\n",
       "education             1003\n",
       "auto                   980\n",
       "Name: purpose, dtype: int64"
      ]
     },
     "execution_count": 8,
     "metadata": {},
     "output_type": "execute_result"
    }
   ],
   "source": [
    "data_loan.purpose.value_counts()"
   ]
  },
  {
   "cell_type": "code",
   "execution_count": 9,
   "metadata": {},
   "outputs": [
    {
     "data": {
      "text/plain": [
       "0.0    94061\n",
       "1.0     4968\n",
       "Name: isJointApplication, dtype: int64"
      ]
     },
     "execution_count": 9,
     "metadata": {},
     "output_type": "execute_result"
    }
   ],
   "source": [
    "data_loan.isJointApplication.value_counts()"
   ]
  },
  {
   "cell_type": "code",
   "execution_count": 10,
   "metadata": {},
   "outputs": [
    {
     "data": {
      "text/plain": [
       "60 months    33971\n",
       "48 months    32486\n",
       "36 months    32472\n",
       "Name: term, dtype: int64"
      ]
     },
     "execution_count": 10,
     "metadata": {},
     "output_type": "execute_result"
    }
   ],
   "source": [
    "data_loan.term.value_counts()"
   ]
  },
  {
   "cell_type": "code",
   "execution_count": 11,
   "metadata": {},
   "outputs": [
    {
     "data": {
      "text/plain": [
       "A1    11251\n",
       "A2    10574\n",
       "A3    10416\n",
       "B1     8553\n",
       "B3     8279\n",
       "B2     8014\n",
       "C1     7030\n",
       "C2     6826\n",
       "C3     5573\n",
       "D2     4513\n",
       "D1     4488\n",
       "D3     3917\n",
       "E3     3614\n",
       "E1     3530\n",
       "E2     3422\n",
       "Name: grade, dtype: int64"
      ]
     },
     "execution_count": 11,
     "metadata": {},
     "output_type": "execute_result"
    }
   ],
   "source": [
    "data_loan.grade.value_counts()"
   ]
  },
  {
   "cell_type": "code",
   "execution_count": 12,
   "metadata": {},
   "outputs": [
    {
     "data": {
      "text/plain": [
       "Current    89996\n",
       "Default    10004\n",
       "Name: loanStatus, dtype: int64"
      ]
     },
     "execution_count": 12,
     "metadata": {},
     "output_type": "execute_result"
    }
   ],
   "source": [
    "data_loan.loanStatus.value_counts()"
   ]
  },
  {
   "cell_type": "code",
   "execution_count": 13,
   "metadata": {},
   "outputs": [
    {
     "data": {
      "text/html": [
       "<div>\n",
       "<style scoped>\n",
       "    .dataframe tbody tr th:only-of-type {\n",
       "        vertical-align: middle;\n",
       "    }\n",
       "\n",
       "    .dataframe tbody tr th {\n",
       "        vertical-align: top;\n",
       "    }\n",
       "\n",
       "    .dataframe thead th {\n",
       "        text-align: right;\n",
       "    }\n",
       "</style>\n",
       "<table border=\"1\" class=\"dataframe\">\n",
       "  <thead>\n",
       "    <tr style=\"text-align: right;\">\n",
       "      <th></th>\n",
       "      <th>loanAmount</th>\n",
       "      <th>interestRate</th>\n",
       "      <th>monthlyPayment</th>\n",
       "    </tr>\n",
       "  </thead>\n",
       "  <tbody>\n",
       "    <tr>\n",
       "      <th>count</th>\n",
       "      <td>98994.000000</td>\n",
       "      <td>100000.000000</td>\n",
       "      <td>100000.000000</td>\n",
       "    </tr>\n",
       "    <tr>\n",
       "      <th>mean</th>\n",
       "      <td>20658.524587</td>\n",
       "      <td>10.977798</td>\n",
       "      <td>552.448620</td>\n",
       "    </tr>\n",
       "    <tr>\n",
       "      <th>std</th>\n",
       "      <td>4731.560429</td>\n",
       "      <td>3.904456</td>\n",
       "      <td>165.072058</td>\n",
       "    </tr>\n",
       "    <tr>\n",
       "      <th>min</th>\n",
       "      <td>1618.000000</td>\n",
       "      <td>4.020000</td>\n",
       "      <td>42.000000</td>\n",
       "    </tr>\n",
       "    <tr>\n",
       "      <th>25%</th>\n",
       "      <td>17480.000000</td>\n",
       "      <td>7.980000</td>\n",
       "      <td>434.000000</td>\n",
       "    </tr>\n",
       "    <tr>\n",
       "      <th>50%</th>\n",
       "      <td>20600.000000</td>\n",
       "      <td>10.460000</td>\n",
       "      <td>534.000000</td>\n",
       "    </tr>\n",
       "    <tr>\n",
       "      <th>75%</th>\n",
       "      <td>23786.000000</td>\n",
       "      <td>13.440000</td>\n",
       "      <td>655.000000</td>\n",
       "    </tr>\n",
       "    <tr>\n",
       "      <th>max</th>\n",
       "      <td>42403.000000</td>\n",
       "      <td>31.700000</td>\n",
       "      <td>1575.000000</td>\n",
       "    </tr>\n",
       "  </tbody>\n",
       "</table>\n",
       "</div>"
      ],
      "text/plain": [
       "         loanAmount   interestRate  monthlyPayment\n",
       "count  98994.000000  100000.000000   100000.000000\n",
       "mean   20658.524587      10.977798      552.448620\n",
       "std     4731.560429       3.904456      165.072058\n",
       "min     1618.000000       4.020000       42.000000\n",
       "25%    17480.000000       7.980000      434.000000\n",
       "50%    20600.000000      10.460000      534.000000\n",
       "75%    23786.000000      13.440000      655.000000\n",
       "max    42403.000000      31.700000     1575.000000"
      ]
     },
     "execution_count": 13,
     "metadata": {},
     "output_type": "execute_result"
    }
   ],
   "source": [
    "data_loan[['loanAmount', 'interestRate', 'monthlyPayment']].describe()"
   ]
  },
  {
   "attachments": {},
   "cell_type": "markdown",
   "metadata": {},
   "source": [
    "### **Missing Values**"
   ]
  },
  {
   "cell_type": "code",
   "execution_count": 14,
   "metadata": {},
   "outputs": [
    {
     "data": {
      "text/plain": [
       "loanId                   0\n",
       "memberId                 0\n",
       "date                     0\n",
       "purpose                  0\n",
       "isJointApplication     971\n",
       "loanAmount            1006\n",
       "term                  1071\n",
       "interestRate             0\n",
       "monthlyPayment           0\n",
       "grade                    0\n",
       "loanStatus               0\n",
       "dtype: int64"
      ]
     },
     "execution_count": 14,
     "metadata": {},
     "output_type": "execute_result"
    }
   ],
   "source": [
    "data_loan.isna().sum()"
   ]
  },
  {
   "cell_type": "code",
   "execution_count": 15,
   "metadata": {},
   "outputs": [
    {
     "data": {
      "text/html": [
       "<div>\n",
       "<style scoped>\n",
       "    .dataframe tbody tr th:only-of-type {\n",
       "        vertical-align: middle;\n",
       "    }\n",
       "\n",
       "    .dataframe tbody tr th {\n",
       "        vertical-align: top;\n",
       "    }\n",
       "\n",
       "    .dataframe thead th {\n",
       "        text-align: right;\n",
       "    }\n",
       "</style>\n",
       "<table border=\"1\" class=\"dataframe\">\n",
       "  <thead>\n",
       "    <tr style=\"text-align: right;\">\n",
       "      <th></th>\n",
       "      <th>loanId</th>\n",
       "      <th>memberId</th>\n",
       "      <th>date</th>\n",
       "      <th>purpose</th>\n",
       "      <th>isJointApplication</th>\n",
       "      <th>loanAmount</th>\n",
       "      <th>term</th>\n",
       "      <th>interestRate</th>\n",
       "      <th>monthlyPayment</th>\n",
       "      <th>grade</th>\n",
       "      <th>loanStatus</th>\n",
       "    </tr>\n",
       "  </thead>\n",
       "  <tbody>\n",
       "    <tr>\n",
       "      <th>7574</th>\n",
       "      <td>1476191</td>\n",
       "      <td>2151629</td>\n",
       "      <td>5/4/2016</td>\n",
       "      <td>business</td>\n",
       "      <td>0.0</td>\n",
       "      <td>NaN</td>\n",
       "      <td>NaN</td>\n",
       "      <td>9.44</td>\n",
       "      <td>488</td>\n",
       "      <td>E3</td>\n",
       "      <td>Default</td>\n",
       "    </tr>\n",
       "    <tr>\n",
       "      <th>9043</th>\n",
       "      <td>1516436</td>\n",
       "      <td>2370473</td>\n",
       "      <td>11/18/2015</td>\n",
       "      <td>debtconsolidation</td>\n",
       "      <td>0.0</td>\n",
       "      <td>NaN</td>\n",
       "      <td>NaN</td>\n",
       "      <td>10.82</td>\n",
       "      <td>592</td>\n",
       "      <td>C3</td>\n",
       "      <td>Current</td>\n",
       "    </tr>\n",
       "    <tr>\n",
       "      <th>9251</th>\n",
       "      <td>1004279</td>\n",
       "      <td>2600631</td>\n",
       "      <td>1/12/2016</td>\n",
       "      <td>business</td>\n",
       "      <td>0.0</td>\n",
       "      <td>NaN</td>\n",
       "      <td>NaN</td>\n",
       "      <td>9.08</td>\n",
       "      <td>503</td>\n",
       "      <td>A2</td>\n",
       "      <td>Current</td>\n",
       "    </tr>\n",
       "    <tr>\n",
       "      <th>14073</th>\n",
       "      <td>1459019</td>\n",
       "      <td>2650588</td>\n",
       "      <td>8/1/2015</td>\n",
       "      <td>business</td>\n",
       "      <td>0.0</td>\n",
       "      <td>NaN</td>\n",
       "      <td>NaN</td>\n",
       "      <td>5.80</td>\n",
       "      <td>262</td>\n",
       "      <td>A2</td>\n",
       "      <td>Current</td>\n",
       "    </tr>\n",
       "    <tr>\n",
       "      <th>14089</th>\n",
       "      <td>1168275</td>\n",
       "      <td>2041818</td>\n",
       "      <td>3/13/2015</td>\n",
       "      <td>homeimprovement</td>\n",
       "      <td>0.0</td>\n",
       "      <td>NaN</td>\n",
       "      <td>NaN</td>\n",
       "      <td>8.72</td>\n",
       "      <td>378</td>\n",
       "      <td>B2</td>\n",
       "      <td>Current</td>\n",
       "    </tr>\n",
       "    <tr>\n",
       "      <th>22547</th>\n",
       "      <td>1085492</td>\n",
       "      <td>2609872</td>\n",
       "      <td>11/2/2014</td>\n",
       "      <td>debtconsolidation</td>\n",
       "      <td>0.0</td>\n",
       "      <td>NaN</td>\n",
       "      <td>NaN</td>\n",
       "      <td>13.00</td>\n",
       "      <td>531</td>\n",
       "      <td>C2</td>\n",
       "      <td>Current</td>\n",
       "    </tr>\n",
       "    <tr>\n",
       "      <th>29807</th>\n",
       "      <td>1364083</td>\n",
       "      <td>2005229</td>\n",
       "      <td>11/9/2015</td>\n",
       "      <td>debtconsolidation</td>\n",
       "      <td>0.0</td>\n",
       "      <td>NaN</td>\n",
       "      <td>NaN</td>\n",
       "      <td>7.47</td>\n",
       "      <td>336</td>\n",
       "      <td>A1</td>\n",
       "      <td>Current</td>\n",
       "    </tr>\n",
       "    <tr>\n",
       "      <th>30616</th>\n",
       "      <td>1689667</td>\n",
       "      <td>2204765</td>\n",
       "      <td>1/8/2016</td>\n",
       "      <td>debtconsolidation</td>\n",
       "      <td>0.0</td>\n",
       "      <td>NaN</td>\n",
       "      <td>NaN</td>\n",
       "      <td>9.26</td>\n",
       "      <td>380</td>\n",
       "      <td>C2</td>\n",
       "      <td>Current</td>\n",
       "    </tr>\n",
       "    <tr>\n",
       "      <th>34149</th>\n",
       "      <td>1894398</td>\n",
       "      <td>2533161</td>\n",
       "      <td>1/30/2016</td>\n",
       "      <td>debtconsolidation</td>\n",
       "      <td>0.0</td>\n",
       "      <td>NaN</td>\n",
       "      <td>NaN</td>\n",
       "      <td>10.28</td>\n",
       "      <td>563</td>\n",
       "      <td>A3</td>\n",
       "      <td>Current</td>\n",
       "    </tr>\n",
       "    <tr>\n",
       "      <th>41500</th>\n",
       "      <td>1750524</td>\n",
       "      <td>2790974</td>\n",
       "      <td>4/7/2015</td>\n",
       "      <td>debtconsolidation</td>\n",
       "      <td>0.0</td>\n",
       "      <td>NaN</td>\n",
       "      <td>NaN</td>\n",
       "      <td>8.77</td>\n",
       "      <td>611</td>\n",
       "      <td>E1</td>\n",
       "      <td>Current</td>\n",
       "    </tr>\n",
       "    <tr>\n",
       "      <th>43485</th>\n",
       "      <td>1644624</td>\n",
       "      <td>2352876</td>\n",
       "      <td>3/15/2015</td>\n",
       "      <td>debtconsolidation</td>\n",
       "      <td>NaN</td>\n",
       "      <td>NaN</td>\n",
       "      <td>NaN</td>\n",
       "      <td>8.31</td>\n",
       "      <td>513</td>\n",
       "      <td>D1</td>\n",
       "      <td>Current</td>\n",
       "    </tr>\n",
       "    <tr>\n",
       "      <th>49968</th>\n",
       "      <td>1411186</td>\n",
       "      <td>2477290</td>\n",
       "      <td>7/23/2015</td>\n",
       "      <td>other</td>\n",
       "      <td>0.0</td>\n",
       "      <td>NaN</td>\n",
       "      <td>NaN</td>\n",
       "      <td>17.64</td>\n",
       "      <td>306</td>\n",
       "      <td>C2</td>\n",
       "      <td>Current</td>\n",
       "    </tr>\n",
       "    <tr>\n",
       "      <th>59159</th>\n",
       "      <td>1440194</td>\n",
       "      <td>2872664</td>\n",
       "      <td>4/20/2016</td>\n",
       "      <td>debtconsolidation</td>\n",
       "      <td>0.0</td>\n",
       "      <td>NaN</td>\n",
       "      <td>NaN</td>\n",
       "      <td>9.03</td>\n",
       "      <td>608</td>\n",
       "      <td>B1</td>\n",
       "      <td>Current</td>\n",
       "    </tr>\n",
       "    <tr>\n",
       "      <th>69749</th>\n",
       "      <td>1197730</td>\n",
       "      <td>2608424</td>\n",
       "      <td>8/21/2015</td>\n",
       "      <td>debtconsolidation</td>\n",
       "      <td>0.0</td>\n",
       "      <td>NaN</td>\n",
       "      <td>NaN</td>\n",
       "      <td>8.87</td>\n",
       "      <td>620</td>\n",
       "      <td>C3</td>\n",
       "      <td>Current</td>\n",
       "    </tr>\n",
       "    <tr>\n",
       "      <th>81969</th>\n",
       "      <td>1448775</td>\n",
       "      <td>2376212</td>\n",
       "      <td>10/6/2014</td>\n",
       "      <td>homeimprovement</td>\n",
       "      <td>0.0</td>\n",
       "      <td>NaN</td>\n",
       "      <td>NaN</td>\n",
       "      <td>6.92</td>\n",
       "      <td>468</td>\n",
       "      <td>B3</td>\n",
       "      <td>Current</td>\n",
       "    </tr>\n",
       "    <tr>\n",
       "      <th>83048</th>\n",
       "      <td>1600629</td>\n",
       "      <td>2409693</td>\n",
       "      <td>9/18/2015</td>\n",
       "      <td>debtconsolidation</td>\n",
       "      <td>0.0</td>\n",
       "      <td>NaN</td>\n",
       "      <td>NaN</td>\n",
       "      <td>12.55</td>\n",
       "      <td>281</td>\n",
       "      <td>B2</td>\n",
       "      <td>Current</td>\n",
       "    </tr>\n",
       "    <tr>\n",
       "      <th>91270</th>\n",
       "      <td>1269876</td>\n",
       "      <td>2759896</td>\n",
       "      <td>11/7/2015</td>\n",
       "      <td>debtconsolidation</td>\n",
       "      <td>0.0</td>\n",
       "      <td>NaN</td>\n",
       "      <td>NaN</td>\n",
       "      <td>6.67</td>\n",
       "      <td>350</td>\n",
       "      <td>C2</td>\n",
       "      <td>Current</td>\n",
       "    </tr>\n",
       "  </tbody>\n",
       "</table>\n",
       "</div>"
      ],
      "text/plain": [
       "        loanId  memberId        date            purpose  isJointApplication  \\\n",
       "7574   1476191   2151629    5/4/2016           business                 0.0   \n",
       "9043   1516436   2370473  11/18/2015  debtconsolidation                 0.0   \n",
       "9251   1004279   2600631   1/12/2016           business                 0.0   \n",
       "14073  1459019   2650588    8/1/2015           business                 0.0   \n",
       "14089  1168275   2041818   3/13/2015    homeimprovement                 0.0   \n",
       "22547  1085492   2609872   11/2/2014  debtconsolidation                 0.0   \n",
       "29807  1364083   2005229   11/9/2015  debtconsolidation                 0.0   \n",
       "30616  1689667   2204765    1/8/2016  debtconsolidation                 0.0   \n",
       "34149  1894398   2533161   1/30/2016  debtconsolidation                 0.0   \n",
       "41500  1750524   2790974    4/7/2015  debtconsolidation                 0.0   \n",
       "43485  1644624   2352876   3/15/2015  debtconsolidation                 NaN   \n",
       "49968  1411186   2477290   7/23/2015              other                 0.0   \n",
       "59159  1440194   2872664   4/20/2016  debtconsolidation                 0.0   \n",
       "69749  1197730   2608424   8/21/2015  debtconsolidation                 0.0   \n",
       "81969  1448775   2376212   10/6/2014    homeimprovement                 0.0   \n",
       "83048  1600629   2409693   9/18/2015  debtconsolidation                 0.0   \n",
       "91270  1269876   2759896   11/7/2015  debtconsolidation                 0.0   \n",
       "\n",
       "       loanAmount term  interestRate  monthlyPayment grade loanStatus  \n",
       "7574          NaN  NaN          9.44             488    E3    Default  \n",
       "9043          NaN  NaN         10.82             592    C3    Current  \n",
       "9251          NaN  NaN          9.08             503    A2    Current  \n",
       "14073         NaN  NaN          5.80             262    A2    Current  \n",
       "14089         NaN  NaN          8.72             378    B2    Current  \n",
       "22547         NaN  NaN         13.00             531    C2    Current  \n",
       "29807         NaN  NaN          7.47             336    A1    Current  \n",
       "30616         NaN  NaN          9.26             380    C2    Current  \n",
       "34149         NaN  NaN         10.28             563    A3    Current  \n",
       "41500         NaN  NaN          8.77             611    E1    Current  \n",
       "43485         NaN  NaN          8.31             513    D1    Current  \n",
       "49968         NaN  NaN         17.64             306    C2    Current  \n",
       "59159         NaN  NaN          9.03             608    B1    Current  \n",
       "69749         NaN  NaN          8.87             620    C3    Current  \n",
       "81969         NaN  NaN          6.92             468    B3    Current  \n",
       "83048         NaN  NaN         12.55             281    B2    Current  \n",
       "91270         NaN  NaN          6.67             350    C2    Current  "
      ]
     },
     "execution_count": 15,
     "metadata": {},
     "output_type": "execute_result"
    }
   ],
   "source": [
    "data_loan.loc[data_loan['loanAmount'].isna() & data_loan['term'].isna()]"
   ]
  },
  {
   "attachments": {},
   "cell_type": "markdown",
   "metadata": {},
   "source": [
    "### **Duplicates**"
   ]
  },
  {
   "cell_type": "code",
   "execution_count": 16,
   "metadata": {},
   "outputs": [
    {
     "data": {
      "text/plain": [
       "0"
      ]
     },
     "execution_count": 16,
     "metadata": {},
     "output_type": "execute_result"
    }
   ],
   "source": [
    "data_loan.duplicated().sum()"
   ]
  },
  {
   "attachments": {},
   "cell_type": "markdown",
   "metadata": {},
   "source": [
    "---"
   ]
  },
  {
   "attachments": {},
   "cell_type": "markdown",
   "metadata": {},
   "source": [
    "### **Actions Required**"
   ]
  },
  {
   "attachments": {},
   "cell_type": "markdown",
   "metadata": {},
   "source": [
    "- Fix column names\n",
    "- Convert date to pandas datetime format\n",
    "- Separate purpose levels with space\n",
    "- Extract the term number\n",
    "- Impute missing loan amount/terms by calculating it using monthly payment, interest rate, and terms/loan amount"
   ]
  },
  {
   "attachments": {},
   "cell_type": "markdown",
   "metadata": {},
   "source": [
    "---"
   ]
  },
  {
   "attachments": {},
   "cell_type": "markdown",
   "metadata": {},
   "source": [
    "# <center>**Borrower**</center>"
   ]
  },
  {
   "attachments": {},
   "cell_type": "markdown",
   "metadata": {},
   "source": [
    "---"
   ]
  },
  {
   "cell_type": "code",
   "execution_count": 17,
   "metadata": {},
   "outputs": [
    {
     "data": {
      "text/html": [
       "<div>\n",
       "<style scoped>\n",
       "    .dataframe tbody tr th:only-of-type {\n",
       "        vertical-align: middle;\n",
       "    }\n",
       "\n",
       "    .dataframe tbody tr th {\n",
       "        vertical-align: top;\n",
       "    }\n",
       "\n",
       "    .dataframe thead th {\n",
       "        text-align: right;\n",
       "    }\n",
       "</style>\n",
       "<table border=\"1\" class=\"dataframe\">\n",
       "  <thead>\n",
       "    <tr style=\"text-align: right;\">\n",
       "      <th></th>\n",
       "      <th>memberId</th>\n",
       "      <th>residentialState</th>\n",
       "      <th>yearsEmployment</th>\n",
       "      <th>homeOwnership</th>\n",
       "      <th>annualIncome</th>\n",
       "      <th>incomeVerified</th>\n",
       "      <th>dtiRatio</th>\n",
       "      <th>lengthCreditHistory</th>\n",
       "      <th>numTotalCreditLines</th>\n",
       "      <th>numOpenCreditLines</th>\n",
       "      <th>numOpenCreditLines1Year</th>\n",
       "      <th>revolvingBalance</th>\n",
       "      <th>revolvingUtilizationRate</th>\n",
       "      <th>numDerogatoryRec</th>\n",
       "      <th>numDelinquency2Years</th>\n",
       "      <th>numChargeoff1year</th>\n",
       "      <th>numInquiries6Mon</th>\n",
       "    </tr>\n",
       "  </thead>\n",
       "  <tbody>\n",
       "    <tr>\n",
       "      <th>0</th>\n",
       "      <td>2305095</td>\n",
       "      <td>NM</td>\n",
       "      <td>10+ years</td>\n",
       "      <td>rent</td>\n",
       "      <td>56471</td>\n",
       "      <td>1</td>\n",
       "      <td>16.80</td>\n",
       "      <td>6</td>\n",
       "      <td>11</td>\n",
       "      <td>9.0</td>\n",
       "      <td>6</td>\n",
       "      <td>14301</td>\n",
       "      <td>49.02</td>\n",
       "      <td>0</td>\n",
       "      <td>19</td>\n",
       "      <td>10</td>\n",
       "      <td>0</td>\n",
       "    </tr>\n",
       "    <tr>\n",
       "      <th>1</th>\n",
       "      <td>2610493</td>\n",
       "      <td>WA</td>\n",
       "      <td>2-5 years</td>\n",
       "      <td>rent</td>\n",
       "      <td>55038</td>\n",
       "      <td>0</td>\n",
       "      <td>19.99</td>\n",
       "      <td>22</td>\n",
       "      <td>8</td>\n",
       "      <td>7.0</td>\n",
       "      <td>4</td>\n",
       "      <td>18262</td>\n",
       "      <td>72.40</td>\n",
       "      <td>1</td>\n",
       "      <td>0</td>\n",
       "      <td>0</td>\n",
       "      <td>0</td>\n",
       "    </tr>\n",
       "    <tr>\n",
       "      <th>2</th>\n",
       "      <td>2491679</td>\n",
       "      <td>MS</td>\n",
       "      <td>&lt; 1 year</td>\n",
       "      <td>rent</td>\n",
       "      <td>56610</td>\n",
       "      <td>1</td>\n",
       "      <td>14.33</td>\n",
       "      <td>5</td>\n",
       "      <td>8</td>\n",
       "      <td>5.0</td>\n",
       "      <td>5</td>\n",
       "      <td>10799</td>\n",
       "      <td>66.27</td>\n",
       "      <td>0</td>\n",
       "      <td>1</td>\n",
       "      <td>1</td>\n",
       "      <td>0</td>\n",
       "    </tr>\n",
       "    <tr>\n",
       "      <th>3</th>\n",
       "      <td>2092798</td>\n",
       "      <td>TX</td>\n",
       "      <td>6-9 years</td>\n",
       "      <td>own</td>\n",
       "      <td>54887</td>\n",
       "      <td>1</td>\n",
       "      <td>14.80</td>\n",
       "      <td>12</td>\n",
       "      <td>14</td>\n",
       "      <td>7.0</td>\n",
       "      <td>3</td>\n",
       "      <td>15272</td>\n",
       "      <td>61.05</td>\n",
       "      <td>1</td>\n",
       "      <td>0</td>\n",
       "      <td>0</td>\n",
       "      <td>3</td>\n",
       "    </tr>\n",
       "    <tr>\n",
       "      <th>4</th>\n",
       "      <td>2633077</td>\n",
       "      <td>MA</td>\n",
       "      <td>2-5 years</td>\n",
       "      <td>rent</td>\n",
       "      <td>53522</td>\n",
       "      <td>1</td>\n",
       "      <td>10.14</td>\n",
       "      <td>4</td>\n",
       "      <td>21</td>\n",
       "      <td>19.0</td>\n",
       "      <td>10</td>\n",
       "      <td>19316</td>\n",
       "      <td>56.39</td>\n",
       "      <td>2</td>\n",
       "      <td>14</td>\n",
       "      <td>7</td>\n",
       "      <td>1</td>\n",
       "    </tr>\n",
       "  </tbody>\n",
       "</table>\n",
       "</div>"
      ],
      "text/plain": [
       "   memberId residentialState yearsEmployment homeOwnership  annualIncome  \\\n",
       "0   2305095               NM       10+ years          rent         56471   \n",
       "1   2610493               WA       2-5 years          rent         55038   \n",
       "2   2491679               MS        < 1 year          rent         56610   \n",
       "3   2092798               TX       6-9 years           own         54887   \n",
       "4   2633077               MA       2-5 years          rent         53522   \n",
       "\n",
       "   incomeVerified  dtiRatio  lengthCreditHistory  numTotalCreditLines  \\\n",
       "0               1     16.80                    6                   11   \n",
       "1               0     19.99                   22                    8   \n",
       "2               1     14.33                    5                    8   \n",
       "3               1     14.80                   12                   14   \n",
       "4               1     10.14                    4                   21   \n",
       "\n",
       "   numOpenCreditLines  numOpenCreditLines1Year  revolvingBalance  \\\n",
       "0                 9.0                        6             14301   \n",
       "1                 7.0                        4             18262   \n",
       "2                 5.0                        5             10799   \n",
       "3                 7.0                        3             15272   \n",
       "4                19.0                       10             19316   \n",
       "\n",
       "   revolvingUtilizationRate  numDerogatoryRec  numDelinquency2Years  \\\n",
       "0                     49.02                 0                    19   \n",
       "1                     72.40                 1                     0   \n",
       "2                     66.27                 0                     1   \n",
       "3                     61.05                 1                     0   \n",
       "4                     56.39                 2                    14   \n",
       "\n",
       "   numChargeoff1year  numInquiries6Mon  \n",
       "0                 10                 0  \n",
       "1                  0                 0  \n",
       "2                  1                 0  \n",
       "3                  0                 3  \n",
       "4                  7                 1  "
      ]
     },
     "execution_count": 17,
     "metadata": {},
     "output_type": "execute_result"
    }
   ],
   "source": [
    "data_borrower.head()"
   ]
  },
  {
   "cell_type": "code",
   "execution_count": 18,
   "metadata": {},
   "outputs": [
    {
     "name": "stdout",
     "output_type": "stream",
     "text": [
      "<class 'pandas.core.frame.DataFrame'>\n",
      "RangeIndex: 100000 entries, 0 to 99999\n",
      "Data columns (total 17 columns):\n",
      " #   Column                    Non-Null Count   Dtype  \n",
      "---  ------                    --------------   -----  \n",
      " 0   memberId                  100000 non-null  int64  \n",
      " 1   residentialState          100000 non-null  object \n",
      " 2   yearsEmployment           100000 non-null  object \n",
      " 3   homeOwnership             100000 non-null  object \n",
      " 4   annualIncome              100000 non-null  int64  \n",
      " 5   incomeVerified            100000 non-null  int64  \n",
      " 6   dtiRatio                  100000 non-null  float64\n",
      " 7   lengthCreditHistory       100000 non-null  int64  \n",
      " 8   numTotalCreditLines       100000 non-null  int64  \n",
      " 9   numOpenCreditLines        99033 non-null   float64\n",
      " 10  numOpenCreditLines1Year   100000 non-null  int64  \n",
      " 11  revolvingBalance          100000 non-null  int64  \n",
      " 12  revolvingUtilizationRate  100000 non-null  float64\n",
      " 13  numDerogatoryRec          100000 non-null  int64  \n",
      " 14  numDelinquency2Years      100000 non-null  int64  \n",
      " 15  numChargeoff1year         100000 non-null  int64  \n",
      " 16  numInquiries6Mon          100000 non-null  int64  \n",
      "dtypes: float64(3), int64(11), object(3)\n",
      "memory usage: 13.0+ MB\n"
     ]
    }
   ],
   "source": [
    "data_borrower.info()"
   ]
  },
  {
   "attachments": {},
   "cell_type": "markdown",
   "metadata": {},
   "source": [
    "### **Columns Screen**"
   ]
  },
  {
   "cell_type": "code",
   "execution_count": 19,
   "metadata": {},
   "outputs": [
    {
     "data": {
      "text/plain": [
       "CA    7057\n",
       "FL    6603\n",
       "DC    5396\n",
       "NY    5161\n",
       "WA    3477\n",
       "TX    3432\n",
       "IA    2975\n",
       "IL    2913\n",
       "ID    2845\n",
       "IN    2800\n",
       "RI    1790\n",
       "NV    1771\n",
       "GA    1767\n",
       "KS    1755\n",
       "MN    1751\n",
       "SD    1745\n",
       "MD    1744\n",
       "MI    1741\n",
       "SC    1738\n",
       "LA    1732\n",
       "ME    1728\n",
       "NH    1725\n",
       "MO    1718\n",
       "MS    1709\n",
       "TN    1707\n",
       "NJ    1694\n",
       "MA    1694\n",
       "NE    1688\n",
       "PA    1674\n",
       "KY    1664\n",
       "MT    1661\n",
       "OR    1659\n",
       "NM    1644\n",
       "DE    1609\n",
       "CT    1605\n",
       "CO    1575\n",
       "AR    1486\n",
       "AL    1484\n",
       "AZ    1467\n",
       "OH     946\n",
       "WV     907\n",
       "NC     901\n",
       "VA     874\n",
       "UT     845\n",
       "OK     843\n",
       "VT     843\n",
       "WI     833\n",
       "WY     818\n",
       "ND     806\n",
       "Name: residentialState, dtype: int64"
      ]
     },
     "execution_count": 19,
     "metadata": {},
     "output_type": "execute_result"
    }
   ],
   "source": [
    "data_borrower.residentialState.value_counts()"
   ]
  },
  {
   "cell_type": "code",
   "execution_count": 20,
   "metadata": {},
   "outputs": [
    {
     "data": {
      "text/plain": [
       "10+ years    22389\n",
       "6-9 years    19945\n",
       "< 1 year     19401\n",
       "1 year       19211\n",
       "2-5 years    19054\n",
       "Name: yearsEmployment, dtype: int64"
      ]
     },
     "execution_count": 20,
     "metadata": {},
     "output_type": "execute_result"
    }
   ],
   "source": [
    "data_borrower.yearsEmployment.value_counts()"
   ]
  },
  {
   "cell_type": "code",
   "execution_count": 21,
   "metadata": {},
   "outputs": [
    {
     "data": {
      "text/plain": [
       "mortgage    36187\n",
       "rent        32797\n",
       "own         31016\n",
       "Name: homeOwnership, dtype: int64"
      ]
     },
     "execution_count": 21,
     "metadata": {},
     "output_type": "execute_result"
    }
   ],
   "source": [
    "data_borrower.homeOwnership.value_counts()"
   ]
  },
  {
   "cell_type": "code",
   "execution_count": 22,
   "metadata": {},
   "outputs": [
    {
     "data": {
      "text/plain": [
       "1    68607\n",
       "0    31393\n",
       "Name: incomeVerified, dtype: int64"
      ]
     },
     "execution_count": 22,
     "metadata": {},
     "output_type": "execute_result"
    }
   ],
   "source": [
    "data_borrower.incomeVerified.value_counts()"
   ]
  },
  {
   "cell_type": "code",
   "execution_count": 23,
   "metadata": {},
   "outputs": [
    {
     "data": {
      "text/html": [
       "<div>\n",
       "<style scoped>\n",
       "    .dataframe tbody tr th:only-of-type {\n",
       "        vertical-align: middle;\n",
       "    }\n",
       "\n",
       "    .dataframe tbody tr th {\n",
       "        vertical-align: top;\n",
       "    }\n",
       "\n",
       "    .dataframe thead th {\n",
       "        text-align: right;\n",
       "    }\n",
       "</style>\n",
       "<table border=\"1\" class=\"dataframe\">\n",
       "  <thead>\n",
       "    <tr style=\"text-align: right;\">\n",
       "      <th></th>\n",
       "      <th>annualIncome</th>\n",
       "      <th>incomeVerified</th>\n",
       "      <th>dtiRatio</th>\n",
       "      <th>lengthCreditHistory</th>\n",
       "      <th>numTotalCreditLines</th>\n",
       "      <th>numOpenCreditLines</th>\n",
       "      <th>numOpenCreditLines1Year</th>\n",
       "      <th>revolvingBalance</th>\n",
       "      <th>revolvingUtilizationRate</th>\n",
       "      <th>numDerogatoryRec</th>\n",
       "      <th>numDelinquency2Years</th>\n",
       "      <th>numChargeoff1year</th>\n",
       "      <th>numInquiries6Mon</th>\n",
       "    </tr>\n",
       "  </thead>\n",
       "  <tbody>\n",
       "    <tr>\n",
       "      <th>count</th>\n",
       "      <td>100000.000000</td>\n",
       "      <td>100000.000000</td>\n",
       "      <td>100000.000000</td>\n",
       "      <td>100000.000000</td>\n",
       "      <td>100000.000000</td>\n",
       "      <td>99033.000000</td>\n",
       "      <td>100000.000000</td>\n",
       "      <td>100000.000000</td>\n",
       "      <td>100000.000000</td>\n",
       "      <td>100000.000000</td>\n",
       "      <td>100000.000000</td>\n",
       "      <td>100000.000000</td>\n",
       "      <td>100000.000000</td>\n",
       "    </tr>\n",
       "    <tr>\n",
       "      <th>mean</th>\n",
       "      <td>54718.013140</td>\n",
       "      <td>0.686070</td>\n",
       "      <td>17.281603</td>\n",
       "      <td>10.922280</td>\n",
       "      <td>15.015820</td>\n",
       "      <td>11.274434</td>\n",
       "      <td>7.604960</td>\n",
       "      <td>14848.970210</td>\n",
       "      <td>65.090856</td>\n",
       "      <td>0.844460</td>\n",
       "      <td>1.613390</td>\n",
       "      <td>1.236130</td>\n",
       "      <td>1.457470</td>\n",
       "    </tr>\n",
       "    <tr>\n",
       "      <th>std</th>\n",
       "      <td>3178.627286</td>\n",
       "      <td>0.464091</td>\n",
       "      <td>5.100633</td>\n",
       "      <td>10.673098</td>\n",
       "      <td>4.007494</td>\n",
       "      <td>3.770307</td>\n",
       "      <td>3.407668</td>\n",
       "      <td>2507.838336</td>\n",
       "      <td>15.286859</td>\n",
       "      <td>2.519157</td>\n",
       "      <td>4.062456</td>\n",
       "      <td>3.120854</td>\n",
       "      <td>3.303967</td>\n",
       "    </tr>\n",
       "    <tr>\n",
       "      <th>min</th>\n",
       "      <td>38328.000000</td>\n",
       "      <td>0.000000</td>\n",
       "      <td>0.000000</td>\n",
       "      <td>1.000000</td>\n",
       "      <td>1.000000</td>\n",
       "      <td>1.000000</td>\n",
       "      <td>1.000000</td>\n",
       "      <td>4291.000000</td>\n",
       "      <td>0.000000</td>\n",
       "      <td>0.000000</td>\n",
       "      <td>0.000000</td>\n",
       "      <td>0.000000</td>\n",
       "      <td>0.000000</td>\n",
       "    </tr>\n",
       "    <tr>\n",
       "      <th>25%</th>\n",
       "      <td>52648.000000</td>\n",
       "      <td>0.000000</td>\n",
       "      <td>13.820000</td>\n",
       "      <td>4.000000</td>\n",
       "      <td>12.000000</td>\n",
       "      <td>9.000000</td>\n",
       "      <td>5.000000</td>\n",
       "      <td>13150.000000</td>\n",
       "      <td>54.520000</td>\n",
       "      <td>0.000000</td>\n",
       "      <td>0.000000</td>\n",
       "      <td>0.000000</td>\n",
       "      <td>0.000000</td>\n",
       "    </tr>\n",
       "    <tr>\n",
       "      <th>50%</th>\n",
       "      <td>54781.000000</td>\n",
       "      <td>1.000000</td>\n",
       "      <td>17.240000</td>\n",
       "      <td>6.000000</td>\n",
       "      <td>15.000000</td>\n",
       "      <td>11.000000</td>\n",
       "      <td>7.000000</td>\n",
       "      <td>14852.000000</td>\n",
       "      <td>65.180000</td>\n",
       "      <td>0.000000</td>\n",
       "      <td>0.000000</td>\n",
       "      <td>0.000000</td>\n",
       "      <td>0.000000</td>\n",
       "    </tr>\n",
       "    <tr>\n",
       "      <th>75%</th>\n",
       "      <td>56866.000000</td>\n",
       "      <td>1.000000</td>\n",
       "      <td>20.720000</td>\n",
       "      <td>15.000000</td>\n",
       "      <td>18.000000</td>\n",
       "      <td>14.000000</td>\n",
       "      <td>10.000000</td>\n",
       "      <td>16537.250000</td>\n",
       "      <td>75.570000</td>\n",
       "      <td>0.000000</td>\n",
       "      <td>1.000000</td>\n",
       "      <td>1.000000</td>\n",
       "      <td>1.000000</td>\n",
       "    </tr>\n",
       "    <tr>\n",
       "      <th>max</th>\n",
       "      <td>69553.000000</td>\n",
       "      <td>1.000000</td>\n",
       "      <td>40.510000</td>\n",
       "      <td>40.000000</td>\n",
       "      <td>32.000000</td>\n",
       "      <td>29.000000</td>\n",
       "      <td>26.000000</td>\n",
       "      <td>25802.000000</td>\n",
       "      <td>100.000000</td>\n",
       "      <td>15.000000</td>\n",
       "      <td>20.000000</td>\n",
       "      <td>20.000000</td>\n",
       "      <td>19.000000</td>\n",
       "    </tr>\n",
       "  </tbody>\n",
       "</table>\n",
       "</div>"
      ],
      "text/plain": [
       "        annualIncome  incomeVerified       dtiRatio  lengthCreditHistory  \\\n",
       "count  100000.000000   100000.000000  100000.000000        100000.000000   \n",
       "mean    54718.013140        0.686070      17.281603            10.922280   \n",
       "std      3178.627286        0.464091       5.100633            10.673098   \n",
       "min     38328.000000        0.000000       0.000000             1.000000   \n",
       "25%     52648.000000        0.000000      13.820000             4.000000   \n",
       "50%     54781.000000        1.000000      17.240000             6.000000   \n",
       "75%     56866.000000        1.000000      20.720000            15.000000   \n",
       "max     69553.000000        1.000000      40.510000            40.000000   \n",
       "\n",
       "       numTotalCreditLines  numOpenCreditLines  numOpenCreditLines1Year  \\\n",
       "count        100000.000000        99033.000000            100000.000000   \n",
       "mean             15.015820           11.274434                 7.604960   \n",
       "std               4.007494            3.770307                 3.407668   \n",
       "min               1.000000            1.000000                 1.000000   \n",
       "25%              12.000000            9.000000                 5.000000   \n",
       "50%              15.000000           11.000000                 7.000000   \n",
       "75%              18.000000           14.000000                10.000000   \n",
       "max              32.000000           29.000000                26.000000   \n",
       "\n",
       "       revolvingBalance  revolvingUtilizationRate  numDerogatoryRec  \\\n",
       "count     100000.000000             100000.000000     100000.000000   \n",
       "mean       14848.970210                 65.090856          0.844460   \n",
       "std         2507.838336                 15.286859          2.519157   \n",
       "min         4291.000000                  0.000000          0.000000   \n",
       "25%        13150.000000                 54.520000          0.000000   \n",
       "50%        14852.000000                 65.180000          0.000000   \n",
       "75%        16537.250000                 75.570000          0.000000   \n",
       "max        25802.000000                100.000000         15.000000   \n",
       "\n",
       "       numDelinquency2Years  numChargeoff1year  numInquiries6Mon  \n",
       "count         100000.000000      100000.000000     100000.000000  \n",
       "mean               1.613390           1.236130          1.457470  \n",
       "std                4.062456           3.120854          3.303967  \n",
       "min                0.000000           0.000000          0.000000  \n",
       "25%                0.000000           0.000000          0.000000  \n",
       "50%                0.000000           0.000000          0.000000  \n",
       "75%                1.000000           1.000000          1.000000  \n",
       "max               20.000000          20.000000         19.000000  "
      ]
     },
     "execution_count": 23,
     "metadata": {},
     "output_type": "execute_result"
    }
   ],
   "source": [
    "data_borrower.iloc[:, 1:].describe(include=np.number)"
   ]
  },
  {
   "attachments": {},
   "cell_type": "markdown",
   "metadata": {},
   "source": [
    "### **Missing Values**"
   ]
  },
  {
   "cell_type": "code",
   "execution_count": 24,
   "metadata": {},
   "outputs": [
    {
     "data": {
      "text/plain": [
       "memberId                      0\n",
       "residentialState              0\n",
       "yearsEmployment               0\n",
       "homeOwnership                 0\n",
       "annualIncome                  0\n",
       "incomeVerified                0\n",
       "dtiRatio                      0\n",
       "lengthCreditHistory           0\n",
       "numTotalCreditLines           0\n",
       "numOpenCreditLines          967\n",
       "numOpenCreditLines1Year       0\n",
       "revolvingBalance              0\n",
       "revolvingUtilizationRate      0\n",
       "numDerogatoryRec              0\n",
       "numDelinquency2Years          0\n",
       "numChargeoff1year             0\n",
       "numInquiries6Mon              0\n",
       "dtype: int64"
      ]
     },
     "execution_count": 24,
     "metadata": {},
     "output_type": "execute_result"
    }
   ],
   "source": [
    "data_borrower.isna().sum()"
   ]
  },
  {
   "attachments": {},
   "cell_type": "markdown",
   "metadata": {},
   "source": [
    "### **Duplicated**"
   ]
  },
  {
   "cell_type": "code",
   "execution_count": 25,
   "metadata": {},
   "outputs": [
    {
     "data": {
      "text/plain": [
       "0"
      ]
     },
     "execution_count": 25,
     "metadata": {},
     "output_type": "execute_result"
    }
   ],
   "source": [
    "data_borrower.duplicated().sum()"
   ]
  },
  {
   "attachments": {},
   "cell_type": "markdown",
   "metadata": {},
   "source": [
    "---"
   ]
  },
  {
   "attachments": {},
   "cell_type": "markdown",
   "metadata": {},
   "source": [
    "# <center>**Foreign Key Relationships**</center>"
   ]
  },
  {
   "attachments": {},
   "cell_type": "markdown",
   "metadata": {},
   "source": [
    "---"
   ]
  },
  {
   "attachments": {},
   "cell_type": "markdown",
   "metadata": {},
   "source": [
    "- **memberId in the loan table is a foreign key to the borrower table**"
   ]
  },
  {
   "cell_type": "code",
   "execution_count": 26,
   "metadata": {},
   "outputs": [
    {
     "data": {
      "text/plain": [
       "100000"
      ]
     },
     "execution_count": 26,
     "metadata": {},
     "output_type": "execute_result"
    }
   ],
   "source": [
    "data_loan.shape[0]"
   ]
  },
  {
   "cell_type": "code",
   "execution_count": 27,
   "metadata": {},
   "outputs": [
    {
     "data": {
      "text/plain": [
       "100000"
      ]
     },
     "execution_count": 27,
     "metadata": {},
     "output_type": "execute_result"
    }
   ],
   "source": [
    "data_loan.memberId.nunique()"
   ]
  },
  {
   "attachments": {},
   "cell_type": "markdown",
   "metadata": {},
   "source": [
    "- **Check if there is any borrowers in the loan table that are not in the borrower table**"
   ]
  },
  {
   "cell_type": "code",
   "execution_count": 28,
   "metadata": {},
   "outputs": [
    {
     "data": {
      "text/plain": [
       "set()"
      ]
     },
     "execution_count": 28,
     "metadata": {},
     "output_type": "execute_result"
    }
   ],
   "source": [
    "set(data_loan.memberId.unique()).difference(set(data_borrower.memberId.unique()))"
   ]
  },
  {
   "attachments": {},
   "cell_type": "markdown",
   "metadata": {},
   "source": [
    "Good!"
   ]
  }
 ],
 "metadata": {
  "kernelspec": {
   "display_name": "env",
   "language": "python",
   "name": "python3"
  },
  "language_info": {
   "codemirror_mode": {
    "name": "ipython",
    "version": 3
   },
   "file_extension": ".py",
   "mimetype": "text/x-python",
   "name": "python",
   "nbconvert_exporter": "python",
   "pygments_lexer": "ipython3",
   "version": "3.8.10"
  },
  "orig_nbformat": 4,
  "vscode": {
   "interpreter": {
    "hash": "3a94584c251ba390cd0d7d3feb16480bd36f8fef5ed2047cf1953ef62d428829"
   }
  }
 },
 "nbformat": 4,
 "nbformat_minor": 2
}
