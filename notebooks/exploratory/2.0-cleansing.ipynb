{
 "cells": [
  {
   "cell_type": "code",
   "execution_count": 25,
   "metadata": {},
   "outputs": [],
   "source": [
    "import numpy as np\n",
    "import pandas as pd"
   ]
  },
  {
   "cell_type": "code",
   "execution_count": 26,
   "metadata": {},
   "outputs": [],
   "source": [
    "pd.set_option('display.max_columns', 500)"
   ]
  },
  {
   "attachments": {},
   "cell_type": "markdown",
   "metadata": {},
   "source": [
    "---"
   ]
  },
  {
   "cell_type": "code",
   "execution_count": 27,
   "metadata": {},
   "outputs": [],
   "source": [
    "loan = pd.read_csv('../../data/raw/Loan.txt', sep='\\t')\n",
    "borrower = pd.read_csv('../../data/raw/Borrower.txt', sep='\\t')"
   ]
  },
  {
   "cell_type": "code",
   "execution_count": 28,
   "metadata": {},
   "outputs": [],
   "source": [
    "data_loan_borrowers = pd.merge(loan, borrower, on='memberId')"
   ]
  },
  {
   "attachments": {},
   "cell_type": "markdown",
   "metadata": {},
   "source": [
    "---"
   ]
  },
  {
   "cell_type": "code",
   "execution_count": 29,
   "metadata": {},
   "outputs": [
    {
     "name": "stdout",
     "output_type": "stream",
     "text": [
      "<class 'pandas.core.frame.DataFrame'>\n",
      "Int64Index: 100000 entries, 0 to 99999\n",
      "Data columns (total 27 columns):\n",
      " #   Column                    Non-Null Count   Dtype  \n",
      "---  ------                    --------------   -----  \n",
      " 0   loanId                    100000 non-null  int64  \n",
      " 1   memberId                  100000 non-null  int64  \n",
      " 2   date                      100000 non-null  object \n",
      " 3   purpose                   100000 non-null  object \n",
      " 4   isJointApplication        99029 non-null   float64\n",
      " 5   loanAmount                98994 non-null   float64\n",
      " 6   term                      98929 non-null   object \n",
      " 7   interestRate              100000 non-null  float64\n",
      " 8   monthlyPayment            100000 non-null  int64  \n",
      " 9   grade                     100000 non-null  object \n",
      " 10  loanStatus                100000 non-null  object \n",
      " 11  residentialState          100000 non-null  object \n",
      " 12  yearsEmployment           100000 non-null  object \n",
      " 13  homeOwnership             100000 non-null  object \n",
      " 14  annualIncome              100000 non-null  int64  \n",
      " 15  incomeVerified            100000 non-null  int64  \n",
      " 16  dtiRatio                  100000 non-null  float64\n",
      " 17  lengthCreditHistory       100000 non-null  int64  \n",
      " 18  numTotalCreditLines       100000 non-null  int64  \n",
      " 19  numOpenCreditLines        99033 non-null   float64\n",
      " 20  numOpenCreditLines1Year   100000 non-null  int64  \n",
      " 21  revolvingBalance          100000 non-null  int64  \n",
      " 22  revolvingUtilizationRate  100000 non-null  float64\n",
      " 23  numDerogatoryRec          100000 non-null  int64  \n",
      " 24  numDelinquency2Years      100000 non-null  int64  \n",
      " 25  numChargeoff1year         100000 non-null  int64  \n",
      " 26  numInquiries6Mon          100000 non-null  int64  \n",
      "dtypes: float64(6), int64(13), object(8)\n",
      "memory usage: 21.4+ MB\n"
     ]
    }
   ],
   "source": [
    "data_loan_borrowers.info()"
   ]
  },
  {
   "attachments": {},
   "cell_type": "markdown",
   "metadata": {},
   "source": [
    "---"
   ]
  },
  {
   "cell_type": "code",
   "execution_count": 30,
   "metadata": {},
   "outputs": [],
   "source": [
    "loan_borrowers = data_loan_borrowers.copy()"
   ]
  },
  {
   "attachments": {},
   "cell_type": "markdown",
   "metadata": {},
   "source": [
    "**Fix column names**"
   ]
  },
  {
   "cell_type": "code",
   "execution_count": 31,
   "metadata": {},
   "outputs": [],
   "source": [
    "column_names = ['loan_id', 'member_id', 'date', 'purpose', 'is_joint_application', 'loan_amount', 'term', 'interest_rate', 'monthly_payment', 'grade', 'loan_status', 'residential_state', 'years_employment', 'home_ownership', 'annual_income', 'income_verified', 'dti_ratio', 'length_credit_history', 'n_total_credit_lines', 'n_open_credit_lines', 'n_open_credit_lines_1_year', 'revolving_balance', 'revolving_utilization_rate', 'n_derogatory_record', 'n_delinquency_2_years', 'n_charge_off_1_year', 'n_inquiries_6_months']"
   ]
  },
  {
   "cell_type": "code",
   "execution_count": 32,
   "metadata": {},
   "outputs": [],
   "source": [
    "loan_borrowers.columns = column_names"
   ]
  },
  {
   "attachments": {},
   "cell_type": "markdown",
   "metadata": {},
   "source": [
    "**Convert date to datetime format**"
   ]
  },
  {
   "cell_type": "code",
   "execution_count": 33,
   "metadata": {},
   "outputs": [],
   "source": [
    "loan_borrowers['date'] = loan_borrowers['date'].apply(pd.to_datetime)"
   ]
  },
  {
   "attachments": {},
   "cell_type": "markdown",
   "metadata": {},
   "source": [
    "**Extract the term number**"
   ]
  },
  {
   "cell_type": "code",
   "execution_count": 34,
   "metadata": {},
   "outputs": [],
   "source": [
    "loan_borrowers['term_in_months'] = data_loan_borrowers['term'].str.split(' ').str[0].apply(lambda x: int(x) if not pd.isnull(x) else x) "
   ]
  },
  {
   "attachments": {},
   "cell_type": "markdown",
   "metadata": {},
   "source": [
    "**Separate purpose levels with space**"
   ]
  },
  {
   "cell_type": "code",
   "execution_count": 35,
   "metadata": {},
   "outputs": [
    {
     "data": {
      "text/plain": [
       "array(['debtconsolidation', 'homeimprovement', 'healthcare', 'education',\n",
       "       'other', 'business', 'auto'], dtype=object)"
      ]
     },
     "execution_count": 35,
     "metadata": {},
     "output_type": "execute_result"
    }
   ],
   "source": [
    "data_loan_borrowers.purpose.unique()"
   ]
  },
  {
   "cell_type": "code",
   "execution_count": 36,
   "metadata": {},
   "outputs": [],
   "source": [
    "purpose_space = {'debtconsolidation': 'Debt Consolidation', 'homeimprovement': 'Home Improvement'}\n",
    "loan_borrowers['purpose'] = loan_borrowers['purpose'].apply(lambda x: purpose_space[x] if x in purpose_space else x.capitalize())"
   ]
  },
  {
   "attachments": {},
   "cell_type": "markdown",
   "metadata": {},
   "source": [
    "**Impute missing loan amount/terms by calculating it using monthly payment, interest rate, and terms/loan amount**"
   ]
  },
  {
   "cell_type": "code",
   "execution_count": 37,
   "metadata": {},
   "outputs": [],
   "source": [
    "loan_info = ['loan_amount', 'term_in_months', 'interest_rate', 'monthly_payment']\n",
    "loan_borrowers_without_amount_or_term = loan_borrowers.loc[loan_borrowers['loan_amount'].isna() ^ loan_borrowers['term_in_months'].isna()]\n",
    "loan_borrowers_no_amount = loan_borrowers.loc[loan_borrowers['loan_amount'].isna() & ~loan_borrowers['term_in_months'].isna()]\n",
    "loan_borrowers_no_term = loan_borrowers.loc[~loan_borrowers['loan_amount'].isna() & loan_borrowers['term_in_months'].isna()]"
   ]
  },
  {
   "cell_type": "code",
   "execution_count": 38,
   "metadata": {},
   "outputs": [
    {
     "data": {
      "text/plain": [
       "True"
      ]
     },
     "execution_count": 38,
     "metadata": {},
     "output_type": "execute_result"
    }
   ],
   "source": [
    "loan_borrowers_no_amount.shape[0] + loan_borrowers_no_term.shape[0] == loan_borrowers_without_amount_or_term.shape[0]"
   ]
  },
  {
   "cell_type": "code",
   "execution_count": 39,
   "metadata": {},
   "outputs": [],
   "source": [
    "from typing import Optional\n",
    "def calculate_loan_info(row: pd.Series, info: str) -> Optional[int]:\n",
    "   \"\"\"Calculate the missing loan amount or number of terms given its number\n",
    "   of terms in months or loan amount, respectively, yearly interest rate, and \n",
    "   amortized monthly payment.\n",
    "\n",
    "   - info == 'amount' / 'terms'\n",
    "   \"\"\"\n",
    "   emi = row['monthly_payment']  # amortized equal monthly installment\n",
    "   r = row['interest_rate'] / 1200  # monthly interest rate\n",
    "\n",
    "   if info == 'amount':\n",
    "      n = row['term_in_months']  # number of terms \n",
    "      principal = emi * (1 - (1/(1+r)) ** n) / r  # total loan amount\n",
    "      return np.round(principal)\n",
    "   elif info == 'terms':\n",
    "      p = row['loan_amount']  # total loan amount\n",
    "      numerator = emi / (emi - p * r)\n",
    "      terms_in_months = np.log(numerator) / np.log(1 + r)  # number of terms\n",
    "      return np.round(terms_in_months)\n",
    "   else:\n",
    "      print('info has to be either \"amount\" or \"terms\". Try again.')"
   ]
  },
  {
   "cell_type": "code",
   "execution_count": 40,
   "metadata": {},
   "outputs": [],
   "source": [
    "loan_borrowers.loc[loan_borrowers_no_amount.index, 'loan_amount'] = loan_borrowers_no_amount[loan_info].apply(lambda row: calculate_loan_info(row, info='amount'), axis=1)"
   ]
  },
  {
   "cell_type": "code",
   "execution_count": 41,
   "metadata": {},
   "outputs": [],
   "source": [
    "loan_borrowers.loc[loan_borrowers_no_term.index, 'term_in_months'] = loan_borrowers_no_term[loan_info].apply(lambda row: calculate_loan_info(row, info='terms'), axis=1)"
   ]
  },
  {
   "cell_type": "code",
   "execution_count": 42,
   "metadata": {},
   "outputs": [
    {
     "data": {
      "text/plain": [
       "loan_amount       0\n",
       "term_in_months    0\n",
       "dtype: int64"
      ]
     },
     "execution_count": 42,
     "metadata": {},
     "output_type": "execute_result"
    }
   ],
   "source": [
    "loan_borrowers.loc[loan_borrowers_without_amount_or_term.index, ['loan_amount', 'term_in_months']].isna().sum()"
   ]
  },
  {
   "attachments": {},
   "cell_type": "markdown",
   "metadata": {},
   "source": [
    "Great! All records where either loan amount or term in months are missing are now filled."
   ]
  },
  {
   "cell_type": "code",
   "execution_count": 43,
   "metadata": {},
   "outputs": [
    {
     "data": {
      "text/plain": [
       "60.0    34318\n",
       "48.0    32869\n",
       "36.0    32796\n",
       "Name: term_in_months, dtype: int64"
      ]
     },
     "execution_count": 43,
     "metadata": {},
     "output_type": "execute_result"
    }
   ],
   "source": [
    "loan_borrowers.term_in_months.value_counts()"
   ]
  },
  {
   "attachments": {},
   "cell_type": "markdown",
   "metadata": {},
   "source": [
    "**Fill in the term column the additionally calculated terms**"
   ]
  },
  {
   "cell_type": "code",
   "execution_count": 44,
   "metadata": {},
   "outputs": [],
   "source": [
    "loan_borrowers.loc[loan_borrowers_no_term.index, 'term'] = loan_borrowers.loc[loan_borrowers_no_term.index, 'term_in_months'].apply(lambda x: f'{int(x)} months')"
   ]
  },
  {
   "attachments": {},
   "cell_type": "markdown",
   "metadata": {},
   "source": [
    "**Verify the columns loan amount, term, interest rate, and monthly payment using the equal monthly installment formula**"
   ]
  },
  {
   "cell_type": "code",
   "execution_count": 45,
   "metadata": {},
   "outputs": [],
   "source": [
    "borrowers_with_full_loan_detail = loan_borrowers[~loan_borrowers['loan_amount'].isna() | ~loan_borrowers['loan_amount'].isna()]"
   ]
  },
  {
   "cell_type": "code",
   "execution_count": 46,
   "metadata": {},
   "outputs": [],
   "source": [
    "emi = borrowers_with_full_loan_detail['monthly_payment']\n",
    "p = borrowers_with_full_loan_detail['loan_amount']\n",
    "r = borrowers_with_full_loan_detail['interest_rate'] / 1200\n",
    "n = borrowers_with_full_loan_detail['term_in_months']"
   ]
  },
  {
   "cell_type": "code",
   "execution_count": 52,
   "metadata": {},
   "outputs": [
    {
     "data": {
      "text/plain": [
       "True"
      ]
     },
     "execution_count": 52,
     "metadata": {},
     "output_type": "execute_result"
    }
   ],
   "source": [
    "np.sum(emi == np.round(p * r * (1 + r) ** n / ((1 + r) ** n - 1))) == borrowers_with_full_loan_detail.shape[0]"
   ]
  },
  {
   "attachments": {},
   "cell_type": "markdown",
   "metadata": {},
   "source": [
    "---"
   ]
  },
  {
   "attachments": {},
   "cell_type": "markdown",
   "metadata": {},
   "source": [
    "# <center>**Load the transformed data to the data/interim folder for EDA**</center> "
   ]
  },
  {
   "cell_type": "code",
   "execution_count": 48,
   "metadata": {},
   "outputs": [
    {
     "name": "stdout",
     "output_type": "stream",
     "text": [
      "<class 'pandas.core.frame.DataFrame'>\n",
      "Int64Index: 100000 entries, 0 to 99999\n",
      "Data columns (total 28 columns):\n",
      " #   Column                      Non-Null Count   Dtype         \n",
      "---  ------                      --------------   -----         \n",
      " 0   loan_id                     100000 non-null  int64         \n",
      " 1   member_id                   100000 non-null  int64         \n",
      " 2   date                        100000 non-null  datetime64[ns]\n",
      " 3   purpose                     100000 non-null  object        \n",
      " 4   is_joint_application        99029 non-null   float64       \n",
      " 5   loan_amount                 99983 non-null   float64       \n",
      " 6   term                        99983 non-null   object        \n",
      " 7   interest_rate               100000 non-null  float64       \n",
      " 8   monthly_payment             100000 non-null  int64         \n",
      " 9   grade                       100000 non-null  object        \n",
      " 10  loan_status                 100000 non-null  object        \n",
      " 11  residential_state           100000 non-null  object        \n",
      " 12  years_employment            100000 non-null  object        \n",
      " 13  home_ownership              100000 non-null  object        \n",
      " 14  annual_income               100000 non-null  int64         \n",
      " 15  income_verified             100000 non-null  int64         \n",
      " 16  dti_ratio                   100000 non-null  float64       \n",
      " 17  length_credit_history       100000 non-null  int64         \n",
      " 18  n_total_credit_lines        100000 non-null  int64         \n",
      " 19  n_open_credit_lines         99033 non-null   float64       \n",
      " 20  n_open_credit_lines_1_year  100000 non-null  int64         \n",
      " 21  revolving_balance           100000 non-null  int64         \n",
      " 22  revolving_utilization_rate  100000 non-null  float64       \n",
      " 23  n_derogatory_record         100000 non-null  int64         \n",
      " 24  n_delinquency_2_years       100000 non-null  int64         \n",
      " 25  n_charge_off_1_year         100000 non-null  int64         \n",
      " 26  n_inquiries_6_months        100000 non-null  int64         \n",
      " 27  term_in_months              99983 non-null   float64       \n",
      "dtypes: datetime64[ns](1), float64(7), int64(13), object(7)\n",
      "memory usage: 24.1+ MB\n"
     ]
    }
   ],
   "source": [
    "loan_borrowers.info()"
   ]
  },
  {
   "attachments": {},
   "cell_type": "markdown",
   "metadata": {},
   "source": [
    "**Reorder the columns to put term_in_months behind term**"
   ]
  },
  {
   "cell_type": "code",
   "execution_count": 49,
   "metadata": {},
   "outputs": [],
   "source": [
    "cols = loan_borrowers.columns.to_list()\n",
    "cols = cols[:7] + [cols[-1]] + cols[7:-1]"
   ]
  },
  {
   "cell_type": "code",
   "execution_count": 50,
   "metadata": {},
   "outputs": [],
   "source": [
    "loan_borrowers = loan_borrowers[cols]"
   ]
  },
  {
   "cell_type": "code",
   "execution_count": 54,
   "metadata": {},
   "outputs": [],
   "source": [
    "loan_borrowers.to_csv('../../data/interim/loan_borrower.csv', index=False, mode='w+')"
   ]
  }
 ],
 "metadata": {
  "kernelspec": {
   "display_name": "env",
   "language": "python",
   "name": "python3"
  },
  "language_info": {
   "codemirror_mode": {
    "name": "ipython",
    "version": 3
   },
   "file_extension": ".py",
   "mimetype": "text/x-python",
   "name": "python",
   "nbconvert_exporter": "python",
   "pygments_lexer": "ipython3",
   "version": "3.8.10"
  },
  "orig_nbformat": 4,
  "vscode": {
   "interpreter": {
    "hash": "3a94584c251ba390cd0d7d3feb16480bd36f8fef5ed2047cf1953ef62d428829"
   }
  }
 },
 "nbformat": 4,
 "nbformat_minor": 2
}
