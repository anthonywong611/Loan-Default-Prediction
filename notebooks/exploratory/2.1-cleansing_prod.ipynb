{
 "cells": [
  {
   "cell_type": "code",
   "execution_count": 256,
   "metadata": {},
   "outputs": [],
   "source": [
    "import numpy as np\n",
    "import pandas as pd"
   ]
  },
  {
   "cell_type": "code",
   "execution_count": 257,
   "metadata": {},
   "outputs": [],
   "source": [
    "pd.set_option('display.max_columns', 500)"
   ]
  },
  {
   "attachments": {},
   "cell_type": "markdown",
   "metadata": {},
   "source": [
    "---"
   ]
  },
  {
   "cell_type": "code",
   "execution_count": 258,
   "metadata": {},
   "outputs": [],
   "source": [
    "data_loan_prod = pd.read_csv('../../data/raw/Loan_Prod.txt', sep='\\t')\n",
    "data_borrower_prod = pd.read_csv('../../data/raw/Borrower_Prod.txt', sep='\\t')"
   ]
  },
  {
   "attachments": {},
   "cell_type": "markdown",
   "metadata": {},
   "source": [
    "---"
   ]
  },
  {
   "cell_type": "code",
   "execution_count": 259,
   "metadata": {},
   "outputs": [],
   "source": [
    "data_loan_prod.drop(columns='Unnamed: 11', inplace=True)\n",
    "data_loan_prod.drop(index=3000, inplace=True)\n",
    "data_borrower_prod.fillna(0, inplace=True)"
   ]
  },
  {
   "cell_type": "code",
   "execution_count": 260,
   "metadata": {},
   "outputs": [],
   "source": [
    "data_loan_borrower_prod = pd.merge(data_loan_prod, data_borrower_prod, on='memberId')"
   ]
  },
  {
   "attachments": {},
   "cell_type": "markdown",
   "metadata": {},
   "source": [
    "---"
   ]
  },
  {
   "cell_type": "code",
   "execution_count": 261,
   "metadata": {},
   "outputs": [],
   "source": [
    "from typing import Optional, Union\n",
    "def calculate_loan_info(row: pd.Series, info: str) -> Optional[int]:\n",
    "   \"\"\"Calculate the missing loan amount or number of terms given its number\n",
    "   of terms in months or loan amount, respectively, yearly interest rate, and \n",
    "   amortized monthly payment.\n",
    "\n",
    "   - info == 'amount' / 'terms'\n",
    "   \"\"\"\n",
    "   emi = row['monthly_payment']  # amortized equal monthly installment\n",
    "   r = row['interest_rate'] / 1200  # monthly interest rate\n",
    "\n",
    "   try:\n",
    "      if info == 'amount':\n",
    "         n = row['term_in_months']  # number of terms \n",
    "         principal = emi * (1 - (1/(1+r)) ** n) / r  # total loan amount\n",
    "         return np.round(principal)\n",
    "      elif info == 'terms':\n",
    "         p = row['loan_amount']  # total loan amount\n",
    "         numerator = emi / (emi - p * r)\n",
    "         terms_in_months = np.log(numerator) / np.log(1 + r)  # number of terms\n",
    "         return np.round(terms_in_months)\n",
    "      else:\n",
    "         print('info has to be either \"amount\" or \"terms\". Try again.')\n",
    "   except RuntimeError or ValueError as error:\n",
    "      return np.NaN"
   ]
  },
  {
   "cell_type": "code",
   "execution_count": 262,
   "metadata": {},
   "outputs": [],
   "source": [
    "loan_borrower_prod = data_loan_borrower_prod.copy()"
   ]
  },
  {
   "cell_type": "code",
   "execution_count": 263,
   "metadata": {},
   "outputs": [],
   "source": [
    "loan_borrower_prod['monthlyPayment'].fillna(444, inplace=True)"
   ]
  },
  {
   "attachments": {},
   "cell_type": "markdown",
   "metadata": {},
   "source": [
    "**Column Names**"
   ]
  },
  {
   "cell_type": "code",
   "execution_count": 264,
   "metadata": {},
   "outputs": [],
   "source": [
    "column_names = ['loan_id', 'member_id', 'date', 'purpose', 'is_joint_application', 'loan_amount', 'term', 'interest_rate', 'monthly_payment', 'grade', 'loan_status', 'residential_state', 'years_employment', 'home_ownership', 'annual_income', 'income_verified', 'dti_ratio', 'length_credit_history', 'n_total_credit_lines', 'n_open_credit_lines', 'n_open_credit_lines_1_year', 'revolving_balance', 'revolving_utilization_rate', 'n_derogatory_record', 'n_delinquency_2_years', 'n_charge_off_1_year', 'n_inquiries_6_months']"
   ]
  },
  {
   "cell_type": "code",
   "execution_count": 265,
   "metadata": {},
   "outputs": [],
   "source": [
    "loan_borrower_prod.columns = column_names"
   ]
  },
  {
   "attachments": {},
   "cell_type": "markdown",
   "metadata": {},
   "source": [
    "**Columns**"
   ]
  },
  {
   "attachments": {},
   "cell_type": "markdown",
   "metadata": {},
   "source": [
    "**Strip All Categorical Variables of Whitespaces**"
   ]
  },
  {
   "cell_type": "code",
   "execution_count": 266,
   "metadata": {},
   "outputs": [],
   "source": [
    "cat_columns = loan_borrower_prod.columns[data_loan_borrower_prod.dtypes == 'O']\n",
    "for cat_col in cat_columns:\n",
    "   loan_borrower_prod[cat_col] = loan_borrower_prod[cat_col].str.strip()"
   ]
  },
  {
   "cell_type": "code",
   "execution_count": 267,
   "metadata": {},
   "outputs": [],
   "source": [
    "loan_borrower_prod['loan_amount'] = loan_borrower_prod['loan_amount'].str.strip().apply(lambda x: np.NaN if x == '' else float(x))"
   ]
  },
  {
   "cell_type": "code",
   "execution_count": 268,
   "metadata": {},
   "outputs": [],
   "source": [
    "loan_borrower_prod['term_in_months'] = loan_borrower_prod['term'].str.split(' ').str[0].apply(lambda x: int(x) if not pd.isnull(x) else x) "
   ]
  },
  {
   "cell_type": "code",
   "execution_count": 269,
   "metadata": {},
   "outputs": [],
   "source": [
    "purpose_space = {'debtconsolidation': 'Debt Consolidation', 'homeimprovement': 'Home Improvement'}\n",
    "loan_borrower_prod['purpose'] = loan_borrower_prod['purpose'].apply(lambda x: purpose_space[x] if x in purpose_space else x.capitalize())"
   ]
  },
  {
   "cell_type": "code",
   "execution_count": 270,
   "metadata": {},
   "outputs": [],
   "source": [
    "missing_term = loan_borrower_prod.loc[loan_borrower_prod['term'].isna()].index\n",
    "missing_amount = loan_borrower_prod.loc[loan_borrower_prod['loan_amount'].isna()].index"
   ]
  },
  {
   "cell_type": "code",
   "execution_count": 271,
   "metadata": {},
   "outputs": [
    {
     "name": "stderr",
     "output_type": "stream",
     "text": [
      "/tmp/ipykernel_4915/3248979569.py:20: RuntimeWarning: invalid value encountered in log\n",
      "  terms_in_months = np.log(numerator) / np.log(1 + r)  # number of terms\n"
     ]
    }
   ],
   "source": [
    "loan_info = ['loan_amount', 'term_in_months', 'interest_rate', 'monthly_payment']\n",
    "loan_borrower_prod.loc[missing_term, 'term_in_months'] = loan_borrower_prod.loc[missing_term, loan_info].apply(lambda row: calculate_loan_info(row, info='terms'), axis=1)\n",
    "loan_borrower_prod.loc[missing_amount, 'loan_amount'] = loan_borrower_prod.loc[missing_amount, loan_info].apply(lambda row: calculate_loan_info(row, info='amount'), axis=1)"
   ]
  },
  {
   "attachments": {},
   "cell_type": "markdown",
   "metadata": {},
   "source": [
    "**Filter out records where terms cannot be calculated**"
   ]
  },
  {
   "cell_type": "code",
   "execution_count": 272,
   "metadata": {},
   "outputs": [],
   "source": [
    "loan_borrower_prod = loan_borrower_prod.loc[~loan_borrower_prod['term_in_months'].isna()]"
   ]
  },
  {
   "attachments": {},
   "cell_type": "markdown",
   "metadata": {},
   "source": [
    "**Reorder Column Names**"
   ]
  },
  {
   "cell_type": "code",
   "execution_count": 273,
   "metadata": {},
   "outputs": [],
   "source": [
    "cols = loan_borrower_prod.columns.to_list()\n",
    "cols = cols[:7] + [cols[-1]] + cols[7:-1]\n",
    "loan_borrower_prod = loan_borrower_prod[cols]"
   ]
  },
  {
   "attachments": {},
   "cell_type": "markdown",
   "metadata": {},
   "source": [
    "---"
   ]
  },
  {
   "cell_type": "code",
   "execution_count": 274,
   "metadata": {},
   "outputs": [],
   "source": [
    "from sklearn.preprocessing import OrdinalEncoder"
   ]
  },
  {
   "attachments": {},
   "cell_type": "markdown",
   "metadata": {},
   "source": [
    "**Engineer Features for Production Model**"
   ]
  },
  {
   "cell_type": "code",
   "execution_count": 275,
   "metadata": {},
   "outputs": [],
   "source": [
    "loan_borrower_prod = loan_borrower_prod.drop(columns=['loan_id', 'member_id', 'date', 'term'])"
   ]
  },
  {
   "cell_type": "code",
   "execution_count": 276,
   "metadata": {},
   "outputs": [
    {
     "data": {
      "text/plain": [
       "array(['6-9 years', '2-5 years', '10+ years', '1 year', '< 1 year'],\n",
       "      dtype=object)"
      ]
     },
     "execution_count": 276,
     "metadata": {},
     "output_type": "execute_result"
    }
   ],
   "source": [
    "loan_borrower_prod.years_employment.unique()"
   ]
  },
  {
   "cell_type": "code",
   "execution_count": 277,
   "metadata": {},
   "outputs": [],
   "source": [
    "ordinal_encoder = OrdinalEncoder(categories=[['< 1 year', '1 year', '2-5 years', '6-9 years', '10+ years']])\n",
    "years_employment = ordinal_encoder.fit_transform(loan_borrower_prod.years_employment.apply(lambda x: [x]).to_list())"
   ]
  },
  {
   "cell_type": "code",
   "execution_count": 278,
   "metadata": {},
   "outputs": [],
   "source": [
    "loan_borrower_prod.drop(columns='years_employment', inplace=True)"
   ]
  },
  {
   "cell_type": "code",
   "execution_count": 279,
   "metadata": {},
   "outputs": [],
   "source": [
    "loan_borrower_prod = pd.get_dummies(loan_borrower_prod)"
   ]
  },
  {
   "cell_type": "code",
   "execution_count": 280,
   "metadata": {},
   "outputs": [],
   "source": [
    "loan_borrower_prod['years_employment'] = years_employment.flatten()"
   ]
  },
  {
   "cell_type": "code",
   "execution_count": 281,
   "metadata": {},
   "outputs": [],
   "source": [
    "cols = loan_borrower_prod.columns.tolist()\n",
    "loan_borrower_prod = loan_borrower_prod[cols[:8] + [cols[-1]] + cols[8:-1]]"
   ]
  },
  {
   "cell_type": "code",
   "execution_count": 284,
   "metadata": {},
   "outputs": [
    {
     "name": "stdout",
     "output_type": "stream",
     "text": [
      "<class 'pandas.core.frame.DataFrame'>\n",
      "Int64Index: 2992 entries, 0 to 2999\n",
      "Data columns (total 83 columns):\n",
      " #   Column                      Non-Null Count  Dtype  \n",
      "---  ------                      --------------  -----  \n",
      " 0   is_joint_application        2992 non-null   float64\n",
      " 1   loan_amount                 2992 non-null   float64\n",
      " 2   term_in_months              2992 non-null   float64\n",
      " 3   interest_rate               2992 non-null   float64\n",
      " 4   monthly_payment             2992 non-null   float64\n",
      " 5   loan_status                 0 non-null      float64\n",
      " 6   annual_income               2992 non-null   int64  \n",
      " 7   income_verified             2992 non-null   int64  \n",
      " 8   years_employment            2992 non-null   float64\n",
      " 9   dti_ratio                   2992 non-null   float64\n",
      " 10  length_credit_history       2992 non-null   int64  \n",
      " 11  n_total_credit_lines        2992 non-null   int64  \n",
      " 12  n_open_credit_lines         2992 non-null   int64  \n",
      " 13  n_open_credit_lines_1_year  2992 non-null   int64  \n",
      " 14  revolving_balance           2992 non-null   int64  \n",
      " 15  revolving_utilization_rate  2992 non-null   float64\n",
      " 16  n_derogatory_record         2992 non-null   int64  \n",
      " 17  n_delinquency_2_years       2992 non-null   int64  \n",
      " 18  n_charge_off_1_year         2992 non-null   int64  \n",
      " 19  n_inquiries_6_months        2992 non-null   float64\n",
      " 20  purpose_Auto                2992 non-null   uint8  \n",
      " 21  purpose_Business            2992 non-null   uint8  \n",
      " 22  purpose_Debt Consolidation  2992 non-null   uint8  \n",
      " 23  purpose_Education           2992 non-null   uint8  \n",
      " 24  purpose_Healthcare          2992 non-null   uint8  \n",
      " 25  purpose_Home Improvement    2992 non-null   uint8  \n",
      " 26  purpose_Other               2992 non-null   uint8  \n",
      " 27  grade_A1                    2992 non-null   uint8  \n",
      " 28  grade_A2                    2992 non-null   uint8  \n",
      " 29  grade_A3                    2992 non-null   uint8  \n",
      " 30  grade_B1                    2992 non-null   uint8  \n",
      " 31  grade_B2                    2992 non-null   uint8  \n",
      " 32  grade_B3                    2992 non-null   uint8  \n",
      " 33  grade_C1                    2992 non-null   uint8  \n",
      " 34  grade_C2                    2992 non-null   uint8  \n",
      " 35  grade_C3                    2992 non-null   uint8  \n",
      " 36  grade_D1                    2992 non-null   uint8  \n",
      " 37  grade_D2                    2992 non-null   uint8  \n",
      " 38  grade_D3                    2992 non-null   uint8  \n",
      " 39  grade_E1                    2992 non-null   uint8  \n",
      " 40  grade_E2                    2992 non-null   uint8  \n",
      " 41  grade_E3                    2992 non-null   uint8  \n",
      " 42  residential_state_AL        2992 non-null   uint8  \n",
      " 43  residential_state_AR        2992 non-null   uint8  \n",
      " 44  residential_state_AZ        2992 non-null   uint8  \n",
      " 45  residential_state_CA        2992 non-null   uint8  \n",
      " 46  residential_state_CO        2992 non-null   uint8  \n",
      " 47  residential_state_CT        2992 non-null   uint8  \n",
      " 48  residential_state_DC        2992 non-null   uint8  \n",
      " 49  residential_state_DE        2992 non-null   uint8  \n",
      " 50  residential_state_FL        2992 non-null   uint8  \n",
      " 51  residential_state_GA        2992 non-null   uint8  \n",
      " 52  residential_state_IA        2992 non-null   uint8  \n",
      " 53  residential_state_IL        2992 non-null   uint8  \n",
      " 54  residential_state_IN        2992 non-null   uint8  \n",
      " 55  residential_state_KS        2992 non-null   uint8  \n",
      " 56  residential_state_KY        2992 non-null   uint8  \n",
      " 57  residential_state_LA        2992 non-null   uint8  \n",
      " 58  residential_state_MA        2992 non-null   uint8  \n",
      " 59  residential_state_MD        2992 non-null   uint8  \n",
      " 60  residential_state_ME        2992 non-null   uint8  \n",
      " 61  residential_state_MI        2992 non-null   uint8  \n",
      " 62  residential_state_MN        2992 non-null   uint8  \n",
      " 63  residential_state_MO        2992 non-null   uint8  \n",
      " 64  residential_state_MS        2992 non-null   uint8  \n",
      " 65  residential_state_MT        2992 non-null   uint8  \n",
      " 66  residential_state_NE        2992 non-null   uint8  \n",
      " 67  residential_state_NH        2992 non-null   uint8  \n",
      " 68  residential_state_NJ        2992 non-null   uint8  \n",
      " 69  residential_state_NM        2992 non-null   uint8  \n",
      " 70  residential_state_NV        2992 non-null   uint8  \n",
      " 71  residential_state_NY        2992 non-null   uint8  \n",
      " 72  residential_state_OR        2992 non-null   uint8  \n",
      " 73  residential_state_PA        2992 non-null   uint8  \n",
      " 74  residential_state_RI        2992 non-null   uint8  \n",
      " 75  residential_state_SC        2992 non-null   uint8  \n",
      " 76  residential_state_SD        2992 non-null   uint8  \n",
      " 77  residential_state_TN        2992 non-null   uint8  \n",
      " 78  residential_state_TX        2992 non-null   uint8  \n",
      " 79  residential_state_WA        2992 non-null   uint8  \n",
      " 80  home_ownership_mortgage     2992 non-null   uint8  \n",
      " 81  home_ownership_own          2992 non-null   uint8  \n",
      " 82  home_ownership_rent         2992 non-null   uint8  \n",
      "dtypes: float64(10), int64(10), uint8(63)\n",
      "memory usage: 675.0 KB\n"
     ]
    }
   ],
   "source": [
    "loan_borrower_prod.info()"
   ]
  },
  {
   "cell_type": "code",
   "execution_count": null,
   "metadata": {},
   "outputs": [],
   "source": [
    "loan_borrower_prod.to_csv('../../data/processed/loan_borrower_prod.csv', index=False, mode='w+')"
   ]
  }
 ],
 "metadata": {
  "kernelspec": {
   "display_name": "env",
   "language": "python",
   "name": "python3"
  },
  "language_info": {
   "codemirror_mode": {
    "name": "ipython",
    "version": 3
   },
   "file_extension": ".py",
   "mimetype": "text/x-python",
   "name": "python",
   "nbconvert_exporter": "python",
   "pygments_lexer": "ipython3",
   "version": "3.8.10"
  },
  "orig_nbformat": 4,
  "vscode": {
   "interpreter": {
    "hash": "3a94584c251ba390cd0d7d3feb16480bd36f8fef5ed2047cf1953ef62d428829"
   }
  }
 },
 "nbformat": 4,
 "nbformat_minor": 2
}
