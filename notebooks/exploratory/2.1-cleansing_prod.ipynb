{
 "cells": [
  {
   "cell_type": "code",
   "execution_count": 302,
   "metadata": {},
   "outputs": [],
   "source": [
    "import numpy as np\n",
    "import pandas as pd"
   ]
  },
  {
   "cell_type": "code",
   "execution_count": 303,
   "metadata": {},
   "outputs": [],
   "source": [
    "pd.set_option('display.max_columns', 500)"
   ]
  },
  {
   "attachments": {},
   "cell_type": "markdown",
   "metadata": {},
   "source": [
    "---"
   ]
  },
  {
   "cell_type": "code",
   "execution_count": 304,
   "metadata": {},
   "outputs": [],
   "source": [
    "data_loan_prod = pd.read_csv('../../data/raw/Loan_Prod.txt', sep='\\t')\n",
    "data_borrower_prod = pd.read_csv('../../data/raw/Borrower_Prod.txt', sep='\\t')"
   ]
  },
  {
   "attachments": {},
   "cell_type": "markdown",
   "metadata": {},
   "source": [
    "---"
   ]
  },
  {
   "cell_type": "code",
   "execution_count": 305,
   "metadata": {},
   "outputs": [],
   "source": [
    "data_loan_prod.drop(columns='Unnamed: 11', inplace=True)\n",
    "data_loan_prod.drop(index=3000, inplace=True)\n",
    "data_borrower_prod.fillna(0, inplace=True)"
   ]
  },
  {
   "cell_type": "code",
   "execution_count": 306,
   "metadata": {},
   "outputs": [],
   "source": [
    "data_loan_borrower_prod = pd.merge(data_loan_prod, data_borrower_prod, on='memberId')"
   ]
  },
  {
   "attachments": {},
   "cell_type": "markdown",
   "metadata": {},
   "source": [
    "---"
   ]
  },
  {
   "cell_type": "code",
   "execution_count": 307,
   "metadata": {},
   "outputs": [],
   "source": [
    "from typing import Optional, Union\n",
    "def calculate_loan_info(row: pd.Series, info: str) -> Optional[int]:\n",
    "   \"\"\"Calculate the missing loan amount or number of terms given its number\n",
    "   of terms in months or loan amount, respectively, yearly interest rate, and \n",
    "   amortized monthly payment.\n",
    "\n",
    "   - info == 'amount' / 'terms'\n",
    "   \"\"\"\n",
    "   emi = row['monthly_payment']  # amortized equal monthly installment\n",
    "   r = row['interest_rate'] / 1200  # monthly interest rate\n",
    "\n",
    "   try:\n",
    "      if info == 'amount':\n",
    "         n = row['term_in_months']  # number of terms \n",
    "         principal = emi * (1 - (1/(1+r)) ** n) / r  # total loan amount\n",
    "         return np.round(principal)\n",
    "      elif info == 'terms':\n",
    "         p = row['loan_amount']  # total loan amount\n",
    "         numerator = emi / (emi - p * r)\n",
    "         terms_in_months = np.log(numerator) / np.log(1 + r)  # number of terms\n",
    "         return np.round(terms_in_months)\n",
    "      else:\n",
    "         print('info has to be either \"amount\" or \"terms\". Try again.')\n",
    "   except RuntimeError or ValueError as error:\n",
    "      return np.NaN"
   ]
  },
  {
   "cell_type": "code",
   "execution_count": 308,
   "metadata": {},
   "outputs": [],
   "source": [
    "loan_borrower_prod = data_loan_borrower_prod.copy()"
   ]
  },
  {
   "cell_type": "code",
   "execution_count": 309,
   "metadata": {},
   "outputs": [],
   "source": [
    "loan_borrower_prod['monthlyPayment'].fillna(444, inplace=True)"
   ]
  },
  {
   "attachments": {},
   "cell_type": "markdown",
   "metadata": {},
   "source": [
    "**Column Names**"
   ]
  },
  {
   "cell_type": "code",
   "execution_count": 310,
   "metadata": {},
   "outputs": [],
   "source": [
    "column_names = ['loan_id', 'member_id', 'date', 'purpose', 'is_joint_application', 'loan_amount', 'term', 'interest_rate', 'monthly_payment', 'grade', 'loan_status', 'residential_state', 'years_employment', 'home_ownership', 'annual_income', 'income_verified', 'dti_ratio', 'length_credit_history', 'n_total_credit_lines', 'n_open_credit_lines', 'n_open_credit_lines_1_year', 'revolving_balance', 'revolving_utilization_rate', 'n_derogatory_record', 'n_delinquency_2_years', 'n_charge_off_1_year', 'n_inquiries_6_months']"
   ]
  },
  {
   "cell_type": "code",
   "execution_count": 311,
   "metadata": {},
   "outputs": [],
   "source": [
    "loan_borrower_prod.columns = column_names"
   ]
  },
  {
   "attachments": {},
   "cell_type": "markdown",
   "metadata": {},
   "source": [
    "**Columns**"
   ]
  },
  {
   "attachments": {},
   "cell_type": "markdown",
   "metadata": {},
   "source": [
    "**Strip All Categorical Variables of Whitespaces**"
   ]
  },
  {
   "cell_type": "code",
   "execution_count": 312,
   "metadata": {},
   "outputs": [],
   "source": [
    "cat_columns = loan_borrower_prod.columns[data_loan_borrower_prod.dtypes == 'O']\n",
    "for cat_col in cat_columns:\n",
    "   loan_borrower_prod[cat_col] = loan_borrower_prod[cat_col].str.strip()"
   ]
  },
  {
   "cell_type": "code",
   "execution_count": 313,
   "metadata": {},
   "outputs": [],
   "source": [
    "loan_borrower_prod['loan_amount'] = loan_borrower_prod['loan_amount'].str.strip().apply(lambda x: np.NaN if x == '' else float(x))"
   ]
  },
  {
   "cell_type": "code",
   "execution_count": 314,
   "metadata": {},
   "outputs": [],
   "source": [
    "loan_borrower_prod['term_in_months'] = loan_borrower_prod['term'].str.split(' ').str[0].apply(lambda x: int(x) if not pd.isnull(x) else x) "
   ]
  },
  {
   "cell_type": "code",
   "execution_count": 315,
   "metadata": {},
   "outputs": [],
   "source": [
    "purpose_space = {'debtconsolidation': 'Debt Consolidation', 'homeimprovement': 'Home Improvement'}\n",
    "loan_borrower_prod['purpose'] = loan_borrower_prod['purpose'].apply(lambda x: purpose_space[x] if x in purpose_space else x.capitalize())"
   ]
  },
  {
   "cell_type": "code",
   "execution_count": 316,
   "metadata": {},
   "outputs": [],
   "source": [
    "missing_term = loan_borrower_prod.loc[loan_borrower_prod['term'].isna()].index\n",
    "missing_amount = loan_borrower_prod.loc[loan_borrower_prod['loan_amount'].isna()].index"
   ]
  },
  {
   "cell_type": "code",
   "execution_count": 317,
   "metadata": {},
   "outputs": [
    {
     "name": "stderr",
     "output_type": "stream",
     "text": [
      "/tmp/ipykernel_4915/3248979569.py:20: RuntimeWarning: invalid value encountered in log\n",
      "  terms_in_months = np.log(numerator) / np.log(1 + r)  # number of terms\n"
     ]
    }
   ],
   "source": [
    "loan_info = ['loan_amount', 'term_in_months', 'interest_rate', 'monthly_payment']\n",
    "loan_borrower_prod.loc[missing_term, 'term_in_months'] = loan_borrower_prod.loc[missing_term, loan_info].apply(lambda row: calculate_loan_info(row, info='terms'), axis=1)\n",
    "loan_borrower_prod.loc[missing_amount, 'loan_amount'] = loan_borrower_prod.loc[missing_amount, loan_info].apply(lambda row: calculate_loan_info(row, info='amount'), axis=1)"
   ]
  },
  {
   "attachments": {},
   "cell_type": "markdown",
   "metadata": {},
   "source": [
    "**Filter out records where terms cannot be calculated**"
   ]
  },
  {
   "cell_type": "code",
   "execution_count": 318,
   "metadata": {},
   "outputs": [],
   "source": [
    "loan_borrower_prod = loan_borrower_prod.loc[~loan_borrower_prod['term_in_months'].isna()]"
   ]
  },
  {
   "attachments": {},
   "cell_type": "markdown",
   "metadata": {},
   "source": [
    "**Reorder Column Names**"
   ]
  },
  {
   "cell_type": "code",
   "execution_count": 319,
   "metadata": {},
   "outputs": [],
   "source": [
    "cols = loan_borrower_prod.columns.to_list()\n",
    "cols = cols[:7] + [cols[-1]] + cols[7:-1]\n",
    "loan_borrower_prod = loan_borrower_prod[cols]"
   ]
  },
  {
   "cell_type": "code",
   "execution_count": 320,
   "metadata": {},
   "outputs": [
    {
     "name": "stdout",
     "output_type": "stream",
     "text": [
      "<class 'pandas.core.frame.DataFrame'>\n",
      "Int64Index: 2992 entries, 0 to 2999\n",
      "Data columns (total 28 columns):\n",
      " #   Column                      Non-Null Count  Dtype  \n",
      "---  ------                      --------------  -----  \n",
      " 0   loan_id                     2992 non-null   float64\n",
      " 1   member_id                   2992 non-null   float64\n",
      " 2   date                        2992 non-null   object \n",
      " 3   purpose                     2992 non-null   object \n",
      " 4   is_joint_application        2992 non-null   float64\n",
      " 5   loan_amount                 2992 non-null   float64\n",
      " 6   term                        2976 non-null   object \n",
      " 7   term_in_months              2992 non-null   float64\n",
      " 8   interest_rate               2992 non-null   float64\n",
      " 9   monthly_payment             2992 non-null   float64\n",
      " 10  grade                       2992 non-null   object \n",
      " 11  loan_status                 0 non-null      float64\n",
      " 12  residential_state           2992 non-null   object \n",
      " 13  years_employment            2992 non-null   object \n",
      " 14  home_ownership              2992 non-null   object \n",
      " 15  annual_income               2992 non-null   int64  \n",
      " 16  income_verified             2992 non-null   int64  \n",
      " 17  dti_ratio                   2992 non-null   float64\n",
      " 18  length_credit_history       2992 non-null   int64  \n",
      " 19  n_total_credit_lines        2992 non-null   int64  \n",
      " 20  n_open_credit_lines         2992 non-null   int64  \n",
      " 21  n_open_credit_lines_1_year  2992 non-null   int64  \n",
      " 22  revolving_balance           2992 non-null   int64  \n",
      " 23  revolving_utilization_rate  2992 non-null   float64\n",
      " 24  n_derogatory_record         2992 non-null   int64  \n",
      " 25  n_delinquency_2_years       2992 non-null   int64  \n",
      " 26  n_charge_off_1_year         2992 non-null   int64  \n",
      " 27  n_inquiries_6_months        2992 non-null   float64\n",
      "dtypes: float64(11), int64(10), object(7)\n",
      "memory usage: 677.9+ KB\n"
     ]
    }
   ],
   "source": [
    "loan_borrower_prod.info()"
   ]
  },
  {
   "cell_type": "code",
   "execution_count": 326,
   "metadata": {},
   "outputs": [],
   "source": [
    "missing_term = loan_borrower_prod[loan_borrower_prod['term'].isna()].index\n",
    "loan_borrower_prod.loc[missing_term, 'term'] = loan_borrower_prod.loc[missing_term, 'term_in_months'].apply(lambda x: f'{int(x)} months')"
   ]
  },
  {
   "cell_type": "code",
   "execution_count": 328,
   "metadata": {},
   "outputs": [
    {
     "name": "stdout",
     "output_type": "stream",
     "text": [
      "<class 'pandas.core.frame.DataFrame'>\n",
      "Int64Index: 2992 entries, 0 to 2999\n",
      "Data columns (total 28 columns):\n",
      " #   Column                      Non-Null Count  Dtype  \n",
      "---  ------                      --------------  -----  \n",
      " 0   loan_id                     2992 non-null   float64\n",
      " 1   member_id                   2992 non-null   float64\n",
      " 2   date                        2992 non-null   object \n",
      " 3   purpose                     2992 non-null   object \n",
      " 4   is_joint_application        2992 non-null   float64\n",
      " 5   loan_amount                 2992 non-null   float64\n",
      " 6   term                        2992 non-null   object \n",
      " 7   term_in_months              2992 non-null   float64\n",
      " 8   interest_rate               2992 non-null   float64\n",
      " 9   monthly_payment             2992 non-null   float64\n",
      " 10  grade                       2992 non-null   object \n",
      " 11  loan_status                 0 non-null      float64\n",
      " 12  residential_state           2992 non-null   object \n",
      " 13  years_employment            2992 non-null   object \n",
      " 14  home_ownership              2992 non-null   object \n",
      " 15  annual_income               2992 non-null   int64  \n",
      " 16  income_verified             2992 non-null   int64  \n",
      " 17  dti_ratio                   2992 non-null   float64\n",
      " 18  length_credit_history       2992 non-null   int64  \n",
      " 19  n_total_credit_lines        2992 non-null   int64  \n",
      " 20  n_open_credit_lines         2992 non-null   int64  \n",
      " 21  n_open_credit_lines_1_year  2992 non-null   int64  \n",
      " 22  revolving_balance           2992 non-null   int64  \n",
      " 23  revolving_utilization_rate  2992 non-null   float64\n",
      " 24  n_derogatory_record         2992 non-null   int64  \n",
      " 25  n_delinquency_2_years       2992 non-null   int64  \n",
      " 26  n_charge_off_1_year         2992 non-null   int64  \n",
      " 27  n_inquiries_6_months        2992 non-null   float64\n",
      "dtypes: float64(11), int64(10), object(7)\n",
      "memory usage: 742.4+ KB\n"
     ]
    }
   ],
   "source": [
    "loan_borrower_prod.info()"
   ]
  },
  {
   "cell_type": "code",
   "execution_count": 329,
   "metadata": {},
   "outputs": [],
   "source": [
    "loan_borrower_prod.drop(columns='term_in_months', inplace=True)"
   ]
  },
  {
   "cell_type": "code",
   "execution_count": 330,
   "metadata": {},
   "outputs": [
    {
     "data": {
      "text/html": [
       "<div>\n",
       "<style scoped>\n",
       "    .dataframe tbody tr th:only-of-type {\n",
       "        vertical-align: middle;\n",
       "    }\n",
       "\n",
       "    .dataframe tbody tr th {\n",
       "        vertical-align: top;\n",
       "    }\n",
       "\n",
       "    .dataframe thead th {\n",
       "        text-align: right;\n",
       "    }\n",
       "</style>\n",
       "<table border=\"1\" class=\"dataframe\">\n",
       "  <thead>\n",
       "    <tr style=\"text-align: right;\">\n",
       "      <th></th>\n",
       "      <th>loan_id</th>\n",
       "      <th>member_id</th>\n",
       "      <th>date</th>\n",
       "      <th>purpose</th>\n",
       "      <th>is_joint_application</th>\n",
       "      <th>loan_amount</th>\n",
       "      <th>term</th>\n",
       "      <th>interest_rate</th>\n",
       "      <th>monthly_payment</th>\n",
       "      <th>grade</th>\n",
       "      <th>loan_status</th>\n",
       "      <th>residential_state</th>\n",
       "      <th>years_employment</th>\n",
       "      <th>home_ownership</th>\n",
       "      <th>annual_income</th>\n",
       "      <th>income_verified</th>\n",
       "      <th>dti_ratio</th>\n",
       "      <th>length_credit_history</th>\n",
       "      <th>n_total_credit_lines</th>\n",
       "      <th>n_open_credit_lines</th>\n",
       "      <th>n_open_credit_lines_1_year</th>\n",
       "      <th>revolving_balance</th>\n",
       "      <th>revolving_utilization_rate</th>\n",
       "      <th>n_derogatory_record</th>\n",
       "      <th>n_delinquency_2_years</th>\n",
       "      <th>n_charge_off_1_year</th>\n",
       "      <th>n_inquiries_6_months</th>\n",
       "    </tr>\n",
       "  </thead>\n",
       "  <tbody>\n",
       "    <tr>\n",
       "      <th>0</th>\n",
       "      <td>10000000.0</td>\n",
       "      <td>16334480.0</td>\n",
       "      <td>7/2/2016</td>\n",
       "      <td>Debt Consolidation</td>\n",
       "      <td>0.0</td>\n",
       "      <td>23765.0</td>\n",
       "      <td>60 months</td>\n",
       "      <td>9.38</td>\n",
       "      <td>498.0</td>\n",
       "      <td>D1</td>\n",
       "      <td>NaN</td>\n",
       "      <td>IL</td>\n",
       "      <td>6-9 years</td>\n",
       "      <td>mortgage</td>\n",
       "      <td>50975</td>\n",
       "      <td>0</td>\n",
       "      <td>17.71</td>\n",
       "      <td>1</td>\n",
       "      <td>11</td>\n",
       "      <td>9</td>\n",
       "      <td>5</td>\n",
       "      <td>15868</td>\n",
       "      <td>83.01</td>\n",
       "      <td>0</td>\n",
       "      <td>0</td>\n",
       "      <td>5</td>\n",
       "      <td>7.0</td>\n",
       "    </tr>\n",
       "    <tr>\n",
       "      <th>1</th>\n",
       "      <td>10000001.0</td>\n",
       "      <td>16334481.0</td>\n",
       "      <td>7/3/2016</td>\n",
       "      <td>Debt Consolidation</td>\n",
       "      <td>0.0</td>\n",
       "      <td>24302.0</td>\n",
       "      <td>60 months</td>\n",
       "      <td>6.84</td>\n",
       "      <td>479.0</td>\n",
       "      <td>C3</td>\n",
       "      <td>NaN</td>\n",
       "      <td>TN</td>\n",
       "      <td>2-5 years</td>\n",
       "      <td>mortgage</td>\n",
       "      <td>51887</td>\n",
       "      <td>1</td>\n",
       "      <td>23.84</td>\n",
       "      <td>5</td>\n",
       "      <td>19</td>\n",
       "      <td>16</td>\n",
       "      <td>12</td>\n",
       "      <td>12709</td>\n",
       "      <td>65.63</td>\n",
       "      <td>0</td>\n",
       "      <td>0</td>\n",
       "      <td>14</td>\n",
       "      <td>0.0</td>\n",
       "    </tr>\n",
       "    <tr>\n",
       "      <th>2</th>\n",
       "      <td>10000002.0</td>\n",
       "      <td>16334482.0</td>\n",
       "      <td>7/4/2016</td>\n",
       "      <td>Debt Consolidation</td>\n",
       "      <td>0.0</td>\n",
       "      <td>18395.0</td>\n",
       "      <td>60 months</td>\n",
       "      <td>15.67</td>\n",
       "      <td>444.0</td>\n",
       "      <td>E1</td>\n",
       "      <td>NaN</td>\n",
       "      <td>PA</td>\n",
       "      <td>10+ years</td>\n",
       "      <td>mortgage</td>\n",
       "      <td>53254</td>\n",
       "      <td>1</td>\n",
       "      <td>22.53</td>\n",
       "      <td>2</td>\n",
       "      <td>22</td>\n",
       "      <td>19</td>\n",
       "      <td>12</td>\n",
       "      <td>16928</td>\n",
       "      <td>78.35</td>\n",
       "      <td>0</td>\n",
       "      <td>20</td>\n",
       "      <td>0</td>\n",
       "      <td>6.0</td>\n",
       "    </tr>\n",
       "    <tr>\n",
       "      <th>3</th>\n",
       "      <td>10000003.0</td>\n",
       "      <td>16334483.0</td>\n",
       "      <td>7/5/2016</td>\n",
       "      <td>Debt Consolidation</td>\n",
       "      <td>0.0</td>\n",
       "      <td>19621.0</td>\n",
       "      <td>48 months</td>\n",
       "      <td>7.48</td>\n",
       "      <td>474.0</td>\n",
       "      <td>A1</td>\n",
       "      <td>NaN</td>\n",
       "      <td>TX</td>\n",
       "      <td>1 year</td>\n",
       "      <td>own</td>\n",
       "      <td>59643</td>\n",
       "      <td>1</td>\n",
       "      <td>15.26</td>\n",
       "      <td>6</td>\n",
       "      <td>10</td>\n",
       "      <td>7</td>\n",
       "      <td>6</td>\n",
       "      <td>17301</td>\n",
       "      <td>61.74</td>\n",
       "      <td>0</td>\n",
       "      <td>0</td>\n",
       "      <td>12</td>\n",
       "      <td>0.0</td>\n",
       "    </tr>\n",
       "    <tr>\n",
       "      <th>4</th>\n",
       "      <td>10000004.0</td>\n",
       "      <td>16334484.0</td>\n",
       "      <td>7/6/2016</td>\n",
       "      <td>Debt Consolidation</td>\n",
       "      <td>0.0</td>\n",
       "      <td>20577.0</td>\n",
       "      <td>48 months</td>\n",
       "      <td>9.26</td>\n",
       "      <td>515.0</td>\n",
       "      <td>E3</td>\n",
       "      <td>NaN</td>\n",
       "      <td>CA</td>\n",
       "      <td>&lt; 1 year</td>\n",
       "      <td>mortgage</td>\n",
       "      <td>60630</td>\n",
       "      <td>1</td>\n",
       "      <td>9.67</td>\n",
       "      <td>4</td>\n",
       "      <td>16</td>\n",
       "      <td>15</td>\n",
       "      <td>10</td>\n",
       "      <td>16655</td>\n",
       "      <td>64.82</td>\n",
       "      <td>0</td>\n",
       "      <td>7</td>\n",
       "      <td>0</td>\n",
       "      <td>0.0</td>\n",
       "    </tr>\n",
       "  </tbody>\n",
       "</table>\n",
       "</div>"
      ],
      "text/plain": [
       "      loan_id   member_id      date             purpose  is_joint_application  \\\n",
       "0  10000000.0  16334480.0  7/2/2016  Debt Consolidation                   0.0   \n",
       "1  10000001.0  16334481.0  7/3/2016  Debt Consolidation                   0.0   \n",
       "2  10000002.0  16334482.0  7/4/2016  Debt Consolidation                   0.0   \n",
       "3  10000003.0  16334483.0  7/5/2016  Debt Consolidation                   0.0   \n",
       "4  10000004.0  16334484.0  7/6/2016  Debt Consolidation                   0.0   \n",
       "\n",
       "   loan_amount       term  interest_rate  monthly_payment grade  loan_status  \\\n",
       "0      23765.0  60 months           9.38            498.0    D1          NaN   \n",
       "1      24302.0  60 months           6.84            479.0    C3          NaN   \n",
       "2      18395.0  60 months          15.67            444.0    E1          NaN   \n",
       "3      19621.0  48 months           7.48            474.0    A1          NaN   \n",
       "4      20577.0  48 months           9.26            515.0    E3          NaN   \n",
       "\n",
       "  residential_state years_employment home_ownership  annual_income  \\\n",
       "0                IL        6-9 years       mortgage          50975   \n",
       "1                TN        2-5 years       mortgage          51887   \n",
       "2                PA        10+ years       mortgage          53254   \n",
       "3                TX           1 year            own          59643   \n",
       "4                CA         < 1 year       mortgage          60630   \n",
       "\n",
       "   income_verified  dti_ratio  length_credit_history  n_total_credit_lines  \\\n",
       "0                0      17.71                      1                    11   \n",
       "1                1      23.84                      5                    19   \n",
       "2                1      22.53                      2                    22   \n",
       "3                1      15.26                      6                    10   \n",
       "4                1       9.67                      4                    16   \n",
       "\n",
       "   n_open_credit_lines  n_open_credit_lines_1_year  revolving_balance  \\\n",
       "0                    9                           5              15868   \n",
       "1                   16                          12              12709   \n",
       "2                   19                          12              16928   \n",
       "3                    7                           6              17301   \n",
       "4                   15                          10              16655   \n",
       "\n",
       "   revolving_utilization_rate  n_derogatory_record  n_delinquency_2_years  \\\n",
       "0                       83.01                    0                      0   \n",
       "1                       65.63                    0                      0   \n",
       "2                       78.35                    0                     20   \n",
       "3                       61.74                    0                      0   \n",
       "4                       64.82                    0                      7   \n",
       "\n",
       "   n_charge_off_1_year  n_inquiries_6_months  \n",
       "0                    5                   7.0  \n",
       "1                   14                   0.0  \n",
       "2                    0                   6.0  \n",
       "3                   12                   0.0  \n",
       "4                    0                   0.0  "
      ]
     },
     "execution_count": 330,
     "metadata": {},
     "output_type": "execute_result"
    }
   ],
   "source": [
    "loan_borrower_prod.head()"
   ]
  },
  {
   "cell_type": "code",
   "execution_count": null,
   "metadata": {},
   "outputs": [],
   "source": [
    "loan_borrower_prod.to_csv('../../data/interim/loan_borrower_prod.csv', index=False, mode='w+')"
   ]
  },
  {
   "attachments": {},
   "cell_type": "markdown",
   "metadata": {},
   "source": [
    "---"
   ]
  }
 ],
 "metadata": {
  "kernelspec": {
   "display_name": "env",
   "language": "python",
   "name": "python3"
  },
  "language_info": {
   "codemirror_mode": {
    "name": "ipython",
    "version": 3
   },
   "file_extension": ".py",
   "mimetype": "text/x-python",
   "name": "python",
   "nbconvert_exporter": "python",
   "pygments_lexer": "ipython3",
   "version": "3.8.10"
  },
  "orig_nbformat": 4,
  "vscode": {
   "interpreter": {
    "hash": "3a94584c251ba390cd0d7d3feb16480bd36f8fef5ed2047cf1953ef62d428829"
   }
  }
 },
 "nbformat": 4,
 "nbformat_minor": 2
}
