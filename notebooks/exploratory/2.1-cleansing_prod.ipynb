{
 "cells": [
  {
   "cell_type": "code",
   "execution_count": 1,
   "metadata": {},
   "outputs": [],
   "source": [
    "import numpy as np\n",
    "import pandas as pd"
   ]
  },
  {
   "cell_type": "code",
   "execution_count": 22,
   "metadata": {},
   "outputs": [],
   "source": [
    "pd.set_option('display.max_columns', 500)"
   ]
  },
  {
   "attachments": {},
   "cell_type": "markdown",
   "metadata": {},
   "source": [
    "---"
   ]
  },
  {
   "cell_type": "code",
   "execution_count": 2,
   "metadata": {},
   "outputs": [],
   "source": [
    "data_loan_prod = pd.read_csv('../../data/raw/Loan_Prod.txt', sep='\\t')\n",
    "data_borrower_prod = pd.read_csv('../../data/raw/Borrower_Prod.txt', sep='\\t')"
   ]
  },
  {
   "attachments": {},
   "cell_type": "markdown",
   "metadata": {},
   "source": [
    "---"
   ]
  },
  {
   "cell_type": "code",
   "execution_count": 4,
   "metadata": {},
   "outputs": [],
   "source": [
    "data_loan_prod.drop(columns='Unnamed: 11', inplace=True)\n",
    "data_loan_prod.drop(index=3000, inplace=True)\n",
    "data_borrower_prod.fillna(0, inplace=True)"
   ]
  },
  {
   "cell_type": "code",
   "execution_count": 19,
   "metadata": {},
   "outputs": [],
   "source": [
    "data_loan_borrower_prod = pd.merge(data_loan_prod, data_borrower_prod, on='memberId')"
   ]
  },
  {
   "attachments": {},
   "cell_type": "markdown",
   "metadata": {},
   "source": [
    "---"
   ]
  },
  {
   "cell_type": "code",
   "execution_count": 26,
   "metadata": {},
   "outputs": [],
   "source": [
    "from typing import Optional\n",
    "def calculate_loan_info(row: pd.Series, info: str) -> Optional[int]:\n",
    "   \"\"\"Calculate the missing loan amount or number of terms given its number\n",
    "   of terms in months or loan amount, respectively, yearly interest rate, and \n",
    "   amortized monthly payment.\n",
    "\n",
    "   - info == 'amount' / 'terms'\n",
    "   \"\"\"\n",
    "   emi = row['monthly_payment']  # amortized equal monthly installment\n",
    "   r = row['interest_rate'] / 1200  # monthly interest rate\n",
    "\n",
    "   if info == 'amount':\n",
    "      n = row['term_in_months']  # number of terms \n",
    "      principal = emi * (1 - (1/(1+r)) ** n) / r  # total loan amount\n",
    "      return np.round(principal)\n",
    "   elif info == 'terms':\n",
    "      p = row['loan_amount']  # total loan amount\n",
    "      numerator = emi / (emi - p * r)\n",
    "      terms_in_months = np.log(numerator) / np.log(1 + r)  # number of terms\n",
    "      return np.round(terms_in_months)\n",
    "   else:\n",
    "      print('info has to be either \"amount\" or \"terms\". Try again.')"
   ]
  },
  {
   "cell_type": "code",
   "execution_count": 20,
   "metadata": {},
   "outputs": [],
   "source": [
    "loan_borrower_prod = data_loan_borrower_prod.copy()"
   ]
  },
  {
   "cell_type": "code",
   "execution_count": 31,
   "metadata": {},
   "outputs": [],
   "source": [
    "loan_borrower_prod['monthlyPayment'].fillna(444, inplace=True)"
   ]
  },
  {
   "cell_type": "code",
   "execution_count": 34,
   "metadata": {},
   "outputs": [],
   "source": [
    "column_names = ['loan_id', 'member_id', 'date', 'purpose', 'is_joint_application', 'loan_amount', 'term', 'interest_rate', 'monthly_payment', 'grade', 'loan_status', 'residential_state', 'years_employment', 'home_ownership', 'annual_income', 'income_verified', 'dti_ratio', 'length_credit_history', 'n_total_credit_lines', 'n_open_credit_lines', 'n_open_credit_lines_1_year', 'revolving_balance', 'revolving_utilization_rate', 'n_derogatory_record', 'n_delinquency_2_years', 'n_charge_off_1_year', 'n_inquiries_6_months']"
   ]
  },
  {
   "cell_type": "code",
   "execution_count": 35,
   "metadata": {},
   "outputs": [],
   "source": [
    "loan_borrower_prod.columns = column_names"
   ]
  },
  {
   "cell_type": "code",
   "execution_count": 39,
   "metadata": {},
   "outputs": [],
   "source": [
    "loan_borrower_prod['term_in_months'] = loan_borrower_prod['term'].str.split(' ').str[0].apply(lambda x: int(x) if not pd.isnull(x) else x) "
   ]
  },
  {
   "cell_type": "code",
   "execution_count": 41,
   "metadata": {},
   "outputs": [],
   "source": [
    "purpose_space = {'debtconsolidation': 'Debt Consolidation', 'homeimprovement': 'Home Improvement'}\n",
    "loan_borrower_prod['purpose'] = loan_borrower_prod['purpose'].apply(lambda x: purpose_space[x] if x in purpose_space else x.capitalize())"
   ]
  },
  {
   "cell_type": "code",
   "execution_count": 42,
   "metadata": {},
   "outputs": [
    {
     "name": "stdout",
     "output_type": "stream",
     "text": [
      "<class 'pandas.core.frame.DataFrame'>\n",
      "Int64Index: 3000 entries, 0 to 2999\n",
      "Data columns (total 28 columns):\n",
      " #   Column                      Non-Null Count  Dtype  \n",
      "---  ------                      --------------  -----  \n",
      " 0   loan_id                     3000 non-null   float64\n",
      " 1   member_id                   3000 non-null   float64\n",
      " 2   date                        3000 non-null   object \n",
      " 3   purpose                     3000 non-null   object \n",
      " 4   is_joint_application        3000 non-null   float64\n",
      " 5   loan_amount                 3000 non-null   object \n",
      " 6   term                        2976 non-null   object \n",
      " 7   interest_rate               3000 non-null   float64\n",
      " 8   monthly_payment             3000 non-null   float64\n",
      " 9   grade                       3000 non-null   object \n",
      " 10  loan_status                 0 non-null      float64\n",
      " 11  residential_state           3000 non-null   object \n",
      " 12  years_employment            3000 non-null   object \n",
      " 13  home_ownership              3000 non-null   object \n",
      " 14  annual_income               3000 non-null   int64  \n",
      " 15  income_verified             3000 non-null   int64  \n",
      " 16  dti_ratio                   3000 non-null   float64\n",
      " 17  length_credit_history       3000 non-null   int64  \n",
      " 18  n_total_credit_lines        3000 non-null   int64  \n",
      " 19  n_open_credit_lines         3000 non-null   int64  \n",
      " 20  n_open_credit_lines_1_year  3000 non-null   int64  \n",
      " 21  revolving_balance           3000 non-null   int64  \n",
      " 22  revolving_utilization_rate  3000 non-null   float64\n",
      " 23  n_derogatory_record         3000 non-null   int64  \n",
      " 24  n_delinquency_2_years       3000 non-null   int64  \n",
      " 25  n_charge_off_1_year         3000 non-null   int64  \n",
      " 26  n_inquiries_6_months        3000 non-null   float64\n",
      " 27  term_in_months              2976 non-null   float64\n",
      "dtypes: float64(10), int64(10), object(8)\n",
      "memory usage: 679.7+ KB\n"
     ]
    }
   ],
   "source": [
    "loan_borrower_prod.info()"
   ]
  },
  {
   "cell_type": "code",
   "execution_count": 45,
   "metadata": {},
   "outputs": [],
   "source": [
    "missing_term = loan_borrower_prod.loc[loan_borrower_prod['term'].isna()].index"
   ]
  },
  {
   "cell_type": "code",
   "execution_count": 46,
   "metadata": {},
   "outputs": [
    {
     "ename": "TypeError",
     "evalue": "can't multiply sequence by non-int of type 'float'",
     "output_type": "error",
     "traceback": [
      "\u001b[0;31m---------------------------------------------------------------------------\u001b[0m",
      "\u001b[0;31mTypeError\u001b[0m                                 Traceback (most recent call last)",
      "Cell \u001b[0;32mIn[46], line 2\u001b[0m\n\u001b[1;32m      1\u001b[0m loan_info \u001b[39m=\u001b[39m [\u001b[39m'\u001b[39m\u001b[39mloan_amount\u001b[39m\u001b[39m'\u001b[39m, \u001b[39m'\u001b[39m\u001b[39mterm_in_months\u001b[39m\u001b[39m'\u001b[39m, \u001b[39m'\u001b[39m\u001b[39minterest_rate\u001b[39m\u001b[39m'\u001b[39m, \u001b[39m'\u001b[39m\u001b[39mmonthly_payment\u001b[39m\u001b[39m'\u001b[39m]\n\u001b[0;32m----> 2\u001b[0m loan_borrower_prod\u001b[39m.\u001b[39mloc[missing_term, \u001b[39m'\u001b[39m\u001b[39mterm_in_months\u001b[39m\u001b[39m'\u001b[39m] \u001b[39m=\u001b[39m loan_borrower_prod\u001b[39m.\u001b[39;49mloc[missing_term, loan_info]\u001b[39m.\u001b[39;49mapply(\u001b[39mlambda\u001b[39;49;00m row: calculate_loan_info(row, info\u001b[39m=\u001b[39;49m\u001b[39m'\u001b[39;49m\u001b[39mterms\u001b[39;49m\u001b[39m'\u001b[39;49m), axis\u001b[39m=\u001b[39;49m\u001b[39m1\u001b[39;49m)\n",
      "File \u001b[0;32m~/Projects/Loan-Default-Prediction/env/lib/python3.8/site-packages/pandas/core/frame.py:9565\u001b[0m, in \u001b[0;36mDataFrame.apply\u001b[0;34m(self, func, axis, raw, result_type, args, **kwargs)\u001b[0m\n\u001b[1;32m   9554\u001b[0m \u001b[39mfrom\u001b[39;00m \u001b[39mpandas\u001b[39;00m\u001b[39m.\u001b[39;00m\u001b[39mcore\u001b[39;00m\u001b[39m.\u001b[39;00m\u001b[39mapply\u001b[39;00m \u001b[39mimport\u001b[39;00m frame_apply\n\u001b[1;32m   9556\u001b[0m op \u001b[39m=\u001b[39m frame_apply(\n\u001b[1;32m   9557\u001b[0m     \u001b[39mself\u001b[39m,\n\u001b[1;32m   9558\u001b[0m     func\u001b[39m=\u001b[39mfunc,\n\u001b[0;32m   (...)\u001b[0m\n\u001b[1;32m   9563\u001b[0m     kwargs\u001b[39m=\u001b[39mkwargs,\n\u001b[1;32m   9564\u001b[0m )\n\u001b[0;32m-> 9565\u001b[0m \u001b[39mreturn\u001b[39;00m op\u001b[39m.\u001b[39;49mapply()\u001b[39m.\u001b[39m__finalize__(\u001b[39mself\u001b[39m, method\u001b[39m=\u001b[39m\u001b[39m\"\u001b[39m\u001b[39mapply\u001b[39m\u001b[39m\"\u001b[39m)\n",
      "File \u001b[0;32m~/Projects/Loan-Default-Prediction/env/lib/python3.8/site-packages/pandas/core/apply.py:746\u001b[0m, in \u001b[0;36mFrameApply.apply\u001b[0;34m(self)\u001b[0m\n\u001b[1;32m    743\u001b[0m \u001b[39melif\u001b[39;00m \u001b[39mself\u001b[39m\u001b[39m.\u001b[39mraw:\n\u001b[1;32m    744\u001b[0m     \u001b[39mreturn\u001b[39;00m \u001b[39mself\u001b[39m\u001b[39m.\u001b[39mapply_raw()\n\u001b[0;32m--> 746\u001b[0m \u001b[39mreturn\u001b[39;00m \u001b[39mself\u001b[39;49m\u001b[39m.\u001b[39;49mapply_standard()\n",
      "File \u001b[0;32m~/Projects/Loan-Default-Prediction/env/lib/python3.8/site-packages/pandas/core/apply.py:873\u001b[0m, in \u001b[0;36mFrameApply.apply_standard\u001b[0;34m(self)\u001b[0m\n\u001b[1;32m    872\u001b[0m \u001b[39mdef\u001b[39;00m \u001b[39mapply_standard\u001b[39m(\u001b[39mself\u001b[39m):\n\u001b[0;32m--> 873\u001b[0m     results, res_index \u001b[39m=\u001b[39m \u001b[39mself\u001b[39;49m\u001b[39m.\u001b[39;49mapply_series_generator()\n\u001b[1;32m    875\u001b[0m     \u001b[39m# wrap results\u001b[39;00m\n\u001b[1;32m    876\u001b[0m     \u001b[39mreturn\u001b[39;00m \u001b[39mself\u001b[39m\u001b[39m.\u001b[39mwrap_results(results, res_index)\n",
      "File \u001b[0;32m~/Projects/Loan-Default-Prediction/env/lib/python3.8/site-packages/pandas/core/apply.py:889\u001b[0m, in \u001b[0;36mFrameApply.apply_series_generator\u001b[0;34m(self)\u001b[0m\n\u001b[1;32m    886\u001b[0m \u001b[39mwith\u001b[39;00m option_context(\u001b[39m\"\u001b[39m\u001b[39mmode.chained_assignment\u001b[39m\u001b[39m\"\u001b[39m, \u001b[39mNone\u001b[39;00m):\n\u001b[1;32m    887\u001b[0m     \u001b[39mfor\u001b[39;00m i, v \u001b[39min\u001b[39;00m \u001b[39menumerate\u001b[39m(series_gen):\n\u001b[1;32m    888\u001b[0m         \u001b[39m# ignore SettingWithCopy here in case the user mutates\u001b[39;00m\n\u001b[0;32m--> 889\u001b[0m         results[i] \u001b[39m=\u001b[39m \u001b[39mself\u001b[39;49m\u001b[39m.\u001b[39;49mf(v)\n\u001b[1;32m    890\u001b[0m         \u001b[39mif\u001b[39;00m \u001b[39misinstance\u001b[39m(results[i], ABCSeries):\n\u001b[1;32m    891\u001b[0m             \u001b[39m# If we have a view on v, we need to make a copy because\u001b[39;00m\n\u001b[1;32m    892\u001b[0m             \u001b[39m#  series_generator will swap out the underlying data\u001b[39;00m\n\u001b[1;32m    893\u001b[0m             results[i] \u001b[39m=\u001b[39m results[i]\u001b[39m.\u001b[39mcopy(deep\u001b[39m=\u001b[39m\u001b[39mFalse\u001b[39;00m)\n",
      "Cell \u001b[0;32mIn[46], line 2\u001b[0m, in \u001b[0;36m<lambda>\u001b[0;34m(row)\u001b[0m\n\u001b[1;32m      1\u001b[0m loan_info \u001b[39m=\u001b[39m [\u001b[39m'\u001b[39m\u001b[39mloan_amount\u001b[39m\u001b[39m'\u001b[39m, \u001b[39m'\u001b[39m\u001b[39mterm_in_months\u001b[39m\u001b[39m'\u001b[39m, \u001b[39m'\u001b[39m\u001b[39minterest_rate\u001b[39m\u001b[39m'\u001b[39m, \u001b[39m'\u001b[39m\u001b[39mmonthly_payment\u001b[39m\u001b[39m'\u001b[39m]\n\u001b[0;32m----> 2\u001b[0m loan_borrower_prod\u001b[39m.\u001b[39mloc[missing_term, \u001b[39m'\u001b[39m\u001b[39mterm_in_months\u001b[39m\u001b[39m'\u001b[39m] \u001b[39m=\u001b[39m loan_borrower_prod\u001b[39m.\u001b[39mloc[missing_term, loan_info]\u001b[39m.\u001b[39mapply(\u001b[39mlambda\u001b[39;00m row: calculate_loan_info(row, info\u001b[39m=\u001b[39;49m\u001b[39m'\u001b[39;49m\u001b[39mterms\u001b[39;49m\u001b[39m'\u001b[39;49m), axis\u001b[39m=\u001b[39m\u001b[39m1\u001b[39m)\n",
      "Cell \u001b[0;32mIn[26], line 18\u001b[0m, in \u001b[0;36mcalculate_loan_info\u001b[0;34m(row, info)\u001b[0m\n\u001b[1;32m     16\u001b[0m \u001b[39melif\u001b[39;00m info \u001b[39m==\u001b[39m \u001b[39m'\u001b[39m\u001b[39mterms\u001b[39m\u001b[39m'\u001b[39m:\n\u001b[1;32m     17\u001b[0m    p \u001b[39m=\u001b[39m row[\u001b[39m'\u001b[39m\u001b[39mloan_amount\u001b[39m\u001b[39m'\u001b[39m]  \u001b[39m# total loan amount\u001b[39;00m\n\u001b[0;32m---> 18\u001b[0m    numerator \u001b[39m=\u001b[39m emi \u001b[39m/\u001b[39m (emi \u001b[39m-\u001b[39m p \u001b[39m*\u001b[39;49m r)\n\u001b[1;32m     19\u001b[0m    terms_in_months \u001b[39m=\u001b[39m np\u001b[39m.\u001b[39mlog(numerator) \u001b[39m/\u001b[39m np\u001b[39m.\u001b[39mlog(\u001b[39m1\u001b[39m \u001b[39m+\u001b[39m r)  \u001b[39m# number of terms\u001b[39;00m\n\u001b[1;32m     20\u001b[0m    \u001b[39mreturn\u001b[39;00m np\u001b[39m.\u001b[39mround(terms_in_months)\n",
      "\u001b[0;31mTypeError\u001b[0m: can't multiply sequence by non-int of type 'float'"
     ]
    }
   ],
   "source": [
    "loan_info = ['loan_amount', 'term_in_months', 'interest_rate', 'monthly_payment']\n",
    "loan_borrower_prod.loc[missing_term, 'term_in_months'] = loan_borrower_prod.loc[missing_term, loan_info].apply(lambda row: calculate_loan_info(row, info='terms'), axis=1)"
   ]
  }
 ],
 "metadata": {
  "kernelspec": {
   "display_name": "env",
   "language": "python",
   "name": "python3"
  },
  "language_info": {
   "codemirror_mode": {
    "name": "ipython",
    "version": 3
   },
   "file_extension": ".py",
   "mimetype": "text/x-python",
   "name": "python",
   "nbconvert_exporter": "python",
   "pygments_lexer": "ipython3",
   "version": "3.8.10"
  },
  "orig_nbformat": 4,
  "vscode": {
   "interpreter": {
    "hash": "3a94584c251ba390cd0d7d3feb16480bd36f8fef5ed2047cf1953ef62d428829"
   }
  }
 },
 "nbformat": 4,
 "nbformat_minor": 2
}
