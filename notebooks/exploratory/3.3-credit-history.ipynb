{
 "cells": [
  {
   "cell_type": "code",
   "execution_count": 1,
   "metadata": {},
   "outputs": [],
   "source": [
    "import numpy as np\n",
    "import pandas as pd\n",
    "import matplotlib.pyplot as plt\n",
    "import plotly.express as px"
   ]
  },
  {
   "cell_type": "code",
   "execution_count": 2,
   "metadata": {},
   "outputs": [],
   "source": [
    "from pingouin import ttest, anova"
   ]
  },
  {
   "cell_type": "code",
   "execution_count": 3,
   "metadata": {},
   "outputs": [],
   "source": [
    "import warnings\n",
    "warnings.filterwarnings(action='ignore')"
   ]
  },
  {
   "cell_type": "code",
   "execution_count": 4,
   "metadata": {},
   "outputs": [],
   "source": [
    "pd.set_option('display.max_columns', 500)"
   ]
  },
  {
   "attachments": {},
   "cell_type": "markdown",
   "metadata": {},
   "source": [
    "---"
   ]
  },
  {
   "cell_type": "code",
   "execution_count": 5,
   "metadata": {},
   "outputs": [],
   "source": [
    "loan_borrowers = pd.read_csv('../../data/interim/loan_borrower.csv')"
   ]
  },
  {
   "attachments": {},
   "cell_type": "markdown",
   "metadata": {},
   "source": [
    "---"
   ]
  },
  {
   "attachments": {},
   "cell_type": "markdown",
   "metadata": {},
   "source": [
    "# <center>**Credit Analysis**</center>"
   ]
  },
  {
   "attachments": {},
   "cell_type": "markdown",
   "metadata": {},
   "source": [
    "---"
   ]
  },
  {
   "cell_type": "code",
   "execution_count": 6,
   "metadata": {},
   "outputs": [
    {
     "name": "stdout",
     "output_type": "stream",
     "text": [
      "<class 'pandas.core.frame.DataFrame'>\n",
      "RangeIndex: 100000 entries, 0 to 99999\n",
      "Data columns (total 28 columns):\n",
      " #   Column                      Non-Null Count   Dtype  \n",
      "---  ------                      --------------   -----  \n",
      " 0   loan_id                     100000 non-null  int64  \n",
      " 1   member_id                   100000 non-null  int64  \n",
      " 2   date                        100000 non-null  object \n",
      " 3   purpose                     100000 non-null  object \n",
      " 4   is_joint_application        99029 non-null   float64\n",
      " 5   loan_amount                 99983 non-null   float64\n",
      " 6   term                        99983 non-null   object \n",
      " 7   term_in_months              99983 non-null   float64\n",
      " 8   interest_rate               100000 non-null  float64\n",
      " 9   monthly_payment             100000 non-null  int64  \n",
      " 10  grade                       100000 non-null  object \n",
      " 11  loan_status                 100000 non-null  object \n",
      " 12  residential_state           100000 non-null  object \n",
      " 13  years_employment            100000 non-null  object \n",
      " 14  home_ownership              100000 non-null  object \n",
      " 15  annual_income               100000 non-null  int64  \n",
      " 16  income_verified             100000 non-null  int64  \n",
      " 17  dti_ratio                   100000 non-null  float64\n",
      " 18  length_credit_history       100000 non-null  int64  \n",
      " 19  n_total_credit_lines        100000 non-null  int64  \n",
      " 20  n_open_credit_lines         99033 non-null   float64\n",
      " 21  n_open_credit_lines_1_year  100000 non-null  int64  \n",
      " 22  revolving_balance           100000 non-null  int64  \n",
      " 23  revolving_utilization_rate  100000 non-null  float64\n",
      " 24  n_derogatory_record         100000 non-null  int64  \n",
      " 25  n_delinquency_2_years       100000 non-null  int64  \n",
      " 26  n_charge_off_1_year         100000 non-null  int64  \n",
      " 27  n_inquiries_6_months        100000 non-null  int64  \n",
      "dtypes: float64(7), int64(13), object(8)\n",
      "memory usage: 21.4+ MB\n"
     ]
    }
   ],
   "source": [
    "loan_borrowers.info()"
   ]
  }
 ],
 "metadata": {
  "kernelspec": {
   "display_name": "env",
   "language": "python",
   "name": "python3"
  },
  "language_info": {
   "codemirror_mode": {
    "name": "ipython",
    "version": 3
   },
   "file_extension": ".py",
   "mimetype": "text/x-python",
   "name": "python",
   "nbconvert_exporter": "python",
   "pygments_lexer": "ipython3",
   "version": "3.8.10"
  },
  "orig_nbformat": 4,
  "vscode": {
   "interpreter": {
    "hash": "3a94584c251ba390cd0d7d3feb16480bd36f8fef5ed2047cf1953ef62d428829"
   }
  }
 },
 "nbformat": 4,
 "nbformat_minor": 2
}
