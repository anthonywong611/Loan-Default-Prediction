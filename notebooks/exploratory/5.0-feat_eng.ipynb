{
 "cells": [
  {
   "cell_type": "code",
   "execution_count": 94,
   "metadata": {},
   "outputs": [],
   "source": [
    "import pandas as pd\n",
    "import plotly.express as px"
   ]
  },
  {
   "cell_type": "code",
   "execution_count": 95,
   "metadata": {},
   "outputs": [],
   "source": [
    "from sklearn.preprocessing import OrdinalEncoder"
   ]
  },
  {
   "cell_type": "code",
   "execution_count": 96,
   "metadata": {},
   "outputs": [],
   "source": [
    "import warnings\n",
    "warnings.filterwarnings(action='ignore')"
   ]
  },
  {
   "cell_type": "code",
   "execution_count": 97,
   "metadata": {},
   "outputs": [],
   "source": [
    "pd.set_option('display.max_columns', 500)"
   ]
  },
  {
   "attachments": {},
   "cell_type": "markdown",
   "metadata": {},
   "source": [
    "---"
   ]
  },
  {
   "attachments": {},
   "cell_type": "markdown",
   "metadata": {},
   "source": [
    "# <center>**Feature Engineering**</center>"
   ]
  },
  {
   "attachments": {},
   "cell_type": "markdown",
   "metadata": {},
   "source": [
    "---"
   ]
  },
  {
   "cell_type": "code",
   "execution_count": 98,
   "metadata": {},
   "outputs": [],
   "source": [
    "data = pd.read_csv('../../data/interim/loan_borrower.csv')"
   ]
  },
  {
   "attachments": {},
   "cell_type": "markdown",
   "metadata": {},
   "source": [
    "---"
   ]
  },
  {
   "cell_type": "code",
   "execution_count": 99,
   "metadata": {},
   "outputs": [
    {
     "name": "stdout",
     "output_type": "stream",
     "text": [
      "<class 'pandas.core.frame.DataFrame'>\n",
      "RangeIndex: 100000 entries, 0 to 99999\n",
      "Data columns (total 28 columns):\n",
      " #   Column                      Non-Null Count   Dtype  \n",
      "---  ------                      --------------   -----  \n",
      " 0   loan_id                     100000 non-null  int64  \n",
      " 1   member_id                   100000 non-null  int64  \n",
      " 2   date                        100000 non-null  object \n",
      " 3   purpose                     100000 non-null  object \n",
      " 4   is_joint_application        99029 non-null   float64\n",
      " 5   loan_amount                 99983 non-null   float64\n",
      " 6   term                        99983 non-null   object \n",
      " 7   term_in_months              99983 non-null   float64\n",
      " 8   interest_rate               100000 non-null  float64\n",
      " 9   monthly_payment             100000 non-null  int64  \n",
      " 10  grade                       100000 non-null  object \n",
      " 11  loan_status                 100000 non-null  object \n",
      " 12  residential_state           100000 non-null  object \n",
      " 13  years_employment            100000 non-null  object \n",
      " 14  home_ownership              100000 non-null  object \n",
      " 15  annual_income               100000 non-null  int64  \n",
      " 16  income_verified             100000 non-null  int64  \n",
      " 17  dti_ratio                   100000 non-null  float64\n",
      " 18  length_credit_history       100000 non-null  int64  \n",
      " 19  n_total_credit_lines        100000 non-null  int64  \n",
      " 20  n_open_credit_lines         99033 non-null   float64\n",
      " 21  n_open_credit_lines_1_year  100000 non-null  int64  \n",
      " 22  revolving_balance           100000 non-null  int64  \n",
      " 23  revolving_utilization_rate  100000 non-null  float64\n",
      " 24  n_derogatory_record         100000 non-null  int64  \n",
      " 25  n_delinquency_2_years       100000 non-null  int64  \n",
      " 26  n_charge_off_1_year         100000 non-null  int64  \n",
      " 27  n_inquiries_6_months        100000 non-null  int64  \n",
      "dtypes: float64(7), int64(13), object(8)\n",
      "memory usage: 21.4+ MB\n"
     ]
    }
   ],
   "source": [
    "data.info()"
   ]
  },
  {
   "cell_type": "code",
   "execution_count": 100,
   "metadata": {},
   "outputs": [
    {
     "data": {
      "text/html": [
       "<div>\n",
       "<style scoped>\n",
       "    .dataframe tbody tr th:only-of-type {\n",
       "        vertical-align: middle;\n",
       "    }\n",
       "\n",
       "    .dataframe tbody tr th {\n",
       "        vertical-align: top;\n",
       "    }\n",
       "\n",
       "    .dataframe thead th {\n",
       "        text-align: right;\n",
       "    }\n",
       "</style>\n",
       "<table border=\"1\" class=\"dataframe\">\n",
       "  <thead>\n",
       "    <tr style=\"text-align: right;\">\n",
       "      <th></th>\n",
       "      <th>loan_id</th>\n",
       "      <th>member_id</th>\n",
       "      <th>date</th>\n",
       "      <th>purpose</th>\n",
       "      <th>is_joint_application</th>\n",
       "      <th>loan_amount</th>\n",
       "      <th>term</th>\n",
       "      <th>term_in_months</th>\n",
       "      <th>interest_rate</th>\n",
       "      <th>monthly_payment</th>\n",
       "      <th>grade</th>\n",
       "      <th>loan_status</th>\n",
       "      <th>residential_state</th>\n",
       "      <th>years_employment</th>\n",
       "      <th>home_ownership</th>\n",
       "      <th>annual_income</th>\n",
       "      <th>income_verified</th>\n",
       "      <th>dti_ratio</th>\n",
       "      <th>length_credit_history</th>\n",
       "      <th>n_total_credit_lines</th>\n",
       "      <th>n_open_credit_lines</th>\n",
       "      <th>n_open_credit_lines_1_year</th>\n",
       "      <th>revolving_balance</th>\n",
       "      <th>revolving_utilization_rate</th>\n",
       "      <th>n_derogatory_record</th>\n",
       "      <th>n_delinquency_2_years</th>\n",
       "      <th>n_charge_off_1_year</th>\n",
       "      <th>n_inquiries_6_months</th>\n",
       "    </tr>\n",
       "  </thead>\n",
       "  <tbody>\n",
       "    <tr>\n",
       "      <th>0</th>\n",
       "      <td>1888978</td>\n",
       "      <td>2305095</td>\n",
       "      <td>2014-12-10</td>\n",
       "      <td>Debt Consolidation</td>\n",
       "      <td>0.0</td>\n",
       "      <td>25190.0</td>\n",
       "      <td>60 months</td>\n",
       "      <td>60.0</td>\n",
       "      <td>6.25</td>\n",
       "      <td>490</td>\n",
       "      <td>E3</td>\n",
       "      <td>Current</td>\n",
       "      <td>NM</td>\n",
       "      <td>10+ years</td>\n",
       "      <td>rent</td>\n",
       "      <td>56471</td>\n",
       "      <td>1</td>\n",
       "      <td>16.80</td>\n",
       "      <td>6</td>\n",
       "      <td>11</td>\n",
       "      <td>9.0</td>\n",
       "      <td>6</td>\n",
       "      <td>14301</td>\n",
       "      <td>49.02</td>\n",
       "      <td>0</td>\n",
       "      <td>19</td>\n",
       "      <td>10</td>\n",
       "      <td>0</td>\n",
       "    </tr>\n",
       "    <tr>\n",
       "      <th>1</th>\n",
       "      <td>1299695</td>\n",
       "      <td>2610493</td>\n",
       "      <td>2014-09-15</td>\n",
       "      <td>Debt Consolidation</td>\n",
       "      <td>0.0</td>\n",
       "      <td>21189.0</td>\n",
       "      <td>60 months</td>\n",
       "      <td>60.0</td>\n",
       "      <td>10.49</td>\n",
       "      <td>455</td>\n",
       "      <td>B3</td>\n",
       "      <td>Current</td>\n",
       "      <td>WA</td>\n",
       "      <td>2-5 years</td>\n",
       "      <td>rent</td>\n",
       "      <td>55038</td>\n",
       "      <td>0</td>\n",
       "      <td>19.99</td>\n",
       "      <td>22</td>\n",
       "      <td>8</td>\n",
       "      <td>7.0</td>\n",
       "      <td>4</td>\n",
       "      <td>18262</td>\n",
       "      <td>72.40</td>\n",
       "      <td>1</td>\n",
       "      <td>0</td>\n",
       "      <td>0</td>\n",
       "      <td>0</td>\n",
       "    </tr>\n",
       "    <tr>\n",
       "      <th>2</th>\n",
       "      <td>1875016</td>\n",
       "      <td>2491679</td>\n",
       "      <td>2014-09-11</td>\n",
       "      <td>Debt Consolidation</td>\n",
       "      <td>0.0</td>\n",
       "      <td>29908.0</td>\n",
       "      <td>60 months</td>\n",
       "      <td>60.0</td>\n",
       "      <td>9.11</td>\n",
       "      <td>622</td>\n",
       "      <td>B2</td>\n",
       "      <td>Current</td>\n",
       "      <td>MS</td>\n",
       "      <td>&lt; 1 year</td>\n",
       "      <td>rent</td>\n",
       "      <td>56610</td>\n",
       "      <td>1</td>\n",
       "      <td>14.33</td>\n",
       "      <td>5</td>\n",
       "      <td>8</td>\n",
       "      <td>5.0</td>\n",
       "      <td>5</td>\n",
       "      <td>10799</td>\n",
       "      <td>66.27</td>\n",
       "      <td>0</td>\n",
       "      <td>1</td>\n",
       "      <td>1</td>\n",
       "      <td>0</td>\n",
       "    </tr>\n",
       "    <tr>\n",
       "      <th>3</th>\n",
       "      <td>1440478</td>\n",
       "      <td>2092798</td>\n",
       "      <td>2016-04-22</td>\n",
       "      <td>Home Improvement</td>\n",
       "      <td>0.0</td>\n",
       "      <td>13053.0</td>\n",
       "      <td>48 months</td>\n",
       "      <td>48.0</td>\n",
       "      <td>11.89</td>\n",
       "      <td>343</td>\n",
       "      <td>B3</td>\n",
       "      <td>Current</td>\n",
       "      <td>TX</td>\n",
       "      <td>6-9 years</td>\n",
       "      <td>own</td>\n",
       "      <td>54887</td>\n",
       "      <td>1</td>\n",
       "      <td>14.80</td>\n",
       "      <td>12</td>\n",
       "      <td>14</td>\n",
       "      <td>7.0</td>\n",
       "      <td>3</td>\n",
       "      <td>15272</td>\n",
       "      <td>61.05</td>\n",
       "      <td>1</td>\n",
       "      <td>0</td>\n",
       "      <td>0</td>\n",
       "      <td>3</td>\n",
       "    </tr>\n",
       "    <tr>\n",
       "      <th>4</th>\n",
       "      <td>1124634</td>\n",
       "      <td>2633077</td>\n",
       "      <td>2016-02-03</td>\n",
       "      <td>Debt Consolidation</td>\n",
       "      <td>0.0</td>\n",
       "      <td>24613.0</td>\n",
       "      <td>60 months</td>\n",
       "      <td>60.0</td>\n",
       "      <td>15.13</td>\n",
       "      <td>587</td>\n",
       "      <td>A3</td>\n",
       "      <td>Current</td>\n",
       "      <td>MA</td>\n",
       "      <td>2-5 years</td>\n",
       "      <td>rent</td>\n",
       "      <td>53522</td>\n",
       "      <td>1</td>\n",
       "      <td>10.14</td>\n",
       "      <td>4</td>\n",
       "      <td>21</td>\n",
       "      <td>19.0</td>\n",
       "      <td>10</td>\n",
       "      <td>19316</td>\n",
       "      <td>56.39</td>\n",
       "      <td>2</td>\n",
       "      <td>14</td>\n",
       "      <td>7</td>\n",
       "      <td>1</td>\n",
       "    </tr>\n",
       "  </tbody>\n",
       "</table>\n",
       "</div>"
      ],
      "text/plain": [
       "   loan_id  member_id        date             purpose  is_joint_application  \\\n",
       "0  1888978    2305095  2014-12-10  Debt Consolidation                   0.0   \n",
       "1  1299695    2610493  2014-09-15  Debt Consolidation                   0.0   \n",
       "2  1875016    2491679  2014-09-11  Debt Consolidation                   0.0   \n",
       "3  1440478    2092798  2016-04-22    Home Improvement                   0.0   \n",
       "4  1124634    2633077  2016-02-03  Debt Consolidation                   0.0   \n",
       "\n",
       "   loan_amount       term  term_in_months  interest_rate  monthly_payment  \\\n",
       "0      25190.0  60 months            60.0           6.25              490   \n",
       "1      21189.0  60 months            60.0          10.49              455   \n",
       "2      29908.0  60 months            60.0           9.11              622   \n",
       "3      13053.0  48 months            48.0          11.89              343   \n",
       "4      24613.0  60 months            60.0          15.13              587   \n",
       "\n",
       "  grade loan_status residential_state years_employment home_ownership  \\\n",
       "0    E3     Current                NM        10+ years           rent   \n",
       "1    B3     Current                WA        2-5 years           rent   \n",
       "2    B2     Current                MS         < 1 year           rent   \n",
       "3    B3     Current                TX        6-9 years            own   \n",
       "4    A3     Current                MA        2-5 years           rent   \n",
       "\n",
       "   annual_income  income_verified  dti_ratio  length_credit_history  \\\n",
       "0          56471                1      16.80                      6   \n",
       "1          55038                0      19.99                     22   \n",
       "2          56610                1      14.33                      5   \n",
       "3          54887                1      14.80                     12   \n",
       "4          53522                1      10.14                      4   \n",
       "\n",
       "   n_total_credit_lines  n_open_credit_lines  n_open_credit_lines_1_year  \\\n",
       "0                    11                  9.0                           6   \n",
       "1                     8                  7.0                           4   \n",
       "2                     8                  5.0                           5   \n",
       "3                    14                  7.0                           3   \n",
       "4                    21                 19.0                          10   \n",
       "\n",
       "   revolving_balance  revolving_utilization_rate  n_derogatory_record  \\\n",
       "0              14301                       49.02                    0   \n",
       "1              18262                       72.40                    1   \n",
       "2              10799                       66.27                    0   \n",
       "3              15272                       61.05                    1   \n",
       "4              19316                       56.39                    2   \n",
       "\n",
       "   n_delinquency_2_years  n_charge_off_1_year  n_inquiries_6_months  \n",
       "0                     19                   10                     0  \n",
       "1                      0                    0                     0  \n",
       "2                      1                    1                     0  \n",
       "3                      0                    0                     3  \n",
       "4                     14                    7                     1  "
      ]
     },
     "execution_count": 100,
     "metadata": {},
     "output_type": "execute_result"
    }
   ],
   "source": [
    "data.head()"
   ]
  },
  {
   "attachments": {},
   "cell_type": "markdown",
   "metadata": {},
   "source": [
    "---"
   ]
  },
  {
   "cell_type": "code",
   "execution_count": 101,
   "metadata": {},
   "outputs": [],
   "source": [
    "loan_borrower = data.copy()"
   ]
  },
  {
   "attachments": {},
   "cell_type": "markdown",
   "metadata": {},
   "source": [
    "### **Actions Required**"
   ]
  },
  {
   "attachments": {},
   "cell_type": "markdown",
   "metadata": {},
   "source": [
    "- Drop the loan_id, member_id, date, and term columns\n",
    "- Drop rows where both loan_amount and term_in_months are missing\n",
    "- Impute missing values in is_joint_application with the mode value\n",
    "- Impute missing values in n_open_credit_lines with the values from n_open_credit_lines_1_year\n",
    "- Encode years_employment with OrdinalEncoder\n",
    "- Encode the rest of the categorical variables with get_dummies"
   ]
  },
  {
   "cell_type": "code",
   "execution_count": 102,
   "metadata": {},
   "outputs": [],
   "source": [
    "loan_borrower = loan_borrower.drop(columns=['loan_id', 'member_id', 'date', 'term'])"
   ]
  },
  {
   "cell_type": "code",
   "execution_count": 103,
   "metadata": {},
   "outputs": [],
   "source": [
    "loan_borrower = loan_borrower.loc[~loan_borrower['loan_amount'].isna() & ~loan_borrower['term_in_months'].isna()]"
   ]
  },
  {
   "cell_type": "code",
   "execution_count": 104,
   "metadata": {},
   "outputs": [],
   "source": [
    "loan_borrower['is_joint_application'].fillna(0, inplace=True)"
   ]
  },
  {
   "cell_type": "code",
   "execution_count": 105,
   "metadata": {},
   "outputs": [],
   "source": [
    "open_credit_na = loan_borrower.loc[loan_borrower['n_open_credit_lines'].isna(), 'n_open_credit_lines_1_year']\n",
    "loan_borrower.loc[open_credit_na.index, 'n_open_credit_lines'] = open_credit_na"
   ]
  },
  {
   "cell_type": "code",
   "execution_count": 106,
   "metadata": {},
   "outputs": [],
   "source": [
    "ordinal_encoder = OrdinalEncoder(categories=[['< 1 year', '1 year', '2-5 years', '6-9 years', '10+ years']])\n",
    "years_employment = ordinal_encoder.fit_transform(loan_borrower.years_employment.apply(lambda x: [x]).to_list())"
   ]
  },
  {
   "cell_type": "code",
   "execution_count": 107,
   "metadata": {},
   "outputs": [],
   "source": [
    "loan_borrower.drop(columns='years_employment', inplace=True)"
   ]
  },
  {
   "cell_type": "code",
   "execution_count": 108,
   "metadata": {},
   "outputs": [],
   "source": [
    "loan_borrower = pd.get_dummies(loan_borrower)"
   ]
  },
  {
   "cell_type": "code",
   "execution_count": 109,
   "metadata": {},
   "outputs": [],
   "source": [
    "loan_borrower['years_employment'] = pd.Series(years_employment.flatten())"
   ]
  },
  {
   "cell_type": "code",
   "execution_count": 110,
   "metadata": {},
   "outputs": [],
   "source": [
    "cols = loan_borrower.columns.tolist()\n",
    "loan_borrower = loan_borrower[cols[:8] + [cols[-1]] + cols[8:-1]]"
   ]
  },
  {
   "cell_type": "code",
   "execution_count": 111,
   "metadata": {},
   "outputs": [
    {
     "name": "stdout",
     "output_type": "stream",
     "text": [
      "<class 'pandas.core.frame.DataFrame'>\n",
      "Int64Index: 99983 entries, 0 to 99999\n",
      "Data columns (total 95 columns):\n",
      " #   Column                      Non-Null Count  Dtype  \n",
      "---  ------                      --------------  -----  \n",
      " 0   is_joint_application        99983 non-null  float64\n",
      " 1   loan_amount                 99983 non-null  float64\n",
      " 2   term_in_months              99983 non-null  float64\n",
      " 3   interest_rate               99983 non-null  float64\n",
      " 4   monthly_payment             99983 non-null  int64  \n",
      " 5   annual_income               99983 non-null  int64  \n",
      " 6   income_verified             99983 non-null  int64  \n",
      " 7   dti_ratio                   99983 non-null  float64\n",
      " 8   years_employment            99966 non-null  float64\n",
      " 9   length_credit_history       99983 non-null  int64  \n",
      " 10  n_total_credit_lines        99983 non-null  int64  \n",
      " 11  n_open_credit_lines         99983 non-null  float64\n",
      " 12  n_open_credit_lines_1_year  99983 non-null  int64  \n",
      " 13  revolving_balance           99983 non-null  int64  \n",
      " 14  revolving_utilization_rate  99983 non-null  float64\n",
      " 15  n_derogatory_record         99983 non-null  int64  \n",
      " 16  n_delinquency_2_years       99983 non-null  int64  \n",
      " 17  n_charge_off_1_year         99983 non-null  int64  \n",
      " 18  n_inquiries_6_months        99983 non-null  int64  \n",
      " 19  purpose_Auto                99983 non-null  uint8  \n",
      " 20  purpose_Business            99983 non-null  uint8  \n",
      " 21  purpose_Debt Consolidation  99983 non-null  uint8  \n",
      " 22  purpose_Education           99983 non-null  uint8  \n",
      " 23  purpose_Healthcare          99983 non-null  uint8  \n",
      " 24  purpose_Home Improvement    99983 non-null  uint8  \n",
      " 25  purpose_Other               99983 non-null  uint8  \n",
      " 26  grade_A1                    99983 non-null  uint8  \n",
      " 27  grade_A2                    99983 non-null  uint8  \n",
      " 28  grade_A3                    99983 non-null  uint8  \n",
      " 29  grade_B1                    99983 non-null  uint8  \n",
      " 30  grade_B2                    99983 non-null  uint8  \n",
      " 31  grade_B3                    99983 non-null  uint8  \n",
      " 32  grade_C1                    99983 non-null  uint8  \n",
      " 33  grade_C2                    99983 non-null  uint8  \n",
      " 34  grade_C3                    99983 non-null  uint8  \n",
      " 35  grade_D1                    99983 non-null  uint8  \n",
      " 36  grade_D2                    99983 non-null  uint8  \n",
      " 37  grade_D3                    99983 non-null  uint8  \n",
      " 38  grade_E1                    99983 non-null  uint8  \n",
      " 39  grade_E2                    99983 non-null  uint8  \n",
      " 40  grade_E3                    99983 non-null  uint8  \n",
      " 41  loan_status_Current         99983 non-null  uint8  \n",
      " 42  loan_status_Default         99983 non-null  uint8  \n",
      " 43  residential_state_AL        99983 non-null  uint8  \n",
      " 44  residential_state_AR        99983 non-null  uint8  \n",
      " 45  residential_state_AZ        99983 non-null  uint8  \n",
      " 46  residential_state_CA        99983 non-null  uint8  \n",
      " 47  residential_state_CO        99983 non-null  uint8  \n",
      " 48  residential_state_CT        99983 non-null  uint8  \n",
      " 49  residential_state_DC        99983 non-null  uint8  \n",
      " 50  residential_state_DE        99983 non-null  uint8  \n",
      " 51  residential_state_FL        99983 non-null  uint8  \n",
      " 52  residential_state_GA        99983 non-null  uint8  \n",
      " 53  residential_state_IA        99983 non-null  uint8  \n",
      " 54  residential_state_ID        99983 non-null  uint8  \n",
      " 55  residential_state_IL        99983 non-null  uint8  \n",
      " 56  residential_state_IN        99983 non-null  uint8  \n",
      " 57  residential_state_KS        99983 non-null  uint8  \n",
      " 58  residential_state_KY        99983 non-null  uint8  \n",
      " 59  residential_state_LA        99983 non-null  uint8  \n",
      " 60  residential_state_MA        99983 non-null  uint8  \n",
      " 61  residential_state_MD        99983 non-null  uint8  \n",
      " 62  residential_state_ME        99983 non-null  uint8  \n",
      " 63  residential_state_MI        99983 non-null  uint8  \n",
      " 64  residential_state_MN        99983 non-null  uint8  \n",
      " 65  residential_state_MO        99983 non-null  uint8  \n",
      " 66  residential_state_MS        99983 non-null  uint8  \n",
      " 67  residential_state_MT        99983 non-null  uint8  \n",
      " 68  residential_state_NC        99983 non-null  uint8  \n",
      " 69  residential_state_ND        99983 non-null  uint8  \n",
      " 70  residential_state_NE        99983 non-null  uint8  \n",
      " 71  residential_state_NH        99983 non-null  uint8  \n",
      " 72  residential_state_NJ        99983 non-null  uint8  \n",
      " 73  residential_state_NM        99983 non-null  uint8  \n",
      " 74  residential_state_NV        99983 non-null  uint8  \n",
      " 75  residential_state_NY        99983 non-null  uint8  \n",
      " 76  residential_state_OH        99983 non-null  uint8  \n",
      " 77  residential_state_OK        99983 non-null  uint8  \n",
      " 78  residential_state_OR        99983 non-null  uint8  \n",
      " 79  residential_state_PA        99983 non-null  uint8  \n",
      " 80  residential_state_RI        99983 non-null  uint8  \n",
      " 81  residential_state_SC        99983 non-null  uint8  \n",
      " 82  residential_state_SD        99983 non-null  uint8  \n",
      " 83  residential_state_TN        99983 non-null  uint8  \n",
      " 84  residential_state_TX        99983 non-null  uint8  \n",
      " 85  residential_state_UT        99983 non-null  uint8  \n",
      " 86  residential_state_VA        99983 non-null  uint8  \n",
      " 87  residential_state_VT        99983 non-null  uint8  \n",
      " 88  residential_state_WA        99983 non-null  uint8  \n",
      " 89  residential_state_WI        99983 non-null  uint8  \n",
      " 90  residential_state_WV        99983 non-null  uint8  \n",
      " 91  residential_state_WY        99983 non-null  uint8  \n",
      " 92  home_ownership_mortgage     99983 non-null  uint8  \n",
      " 93  home_ownership_own          99983 non-null  uint8  \n",
      " 94  home_ownership_rent         99983 non-null  uint8  \n",
      "dtypes: float64(8), int64(11), uint8(76)\n",
      "memory usage: 24.5 MB\n"
     ]
    }
   ],
   "source": [
    "loan_borrower.info()"
   ]
  },
  {
   "attachments": {},
   "cell_type": "markdown",
   "metadata": {},
   "source": [
    "---"
   ]
  },
  {
   "attachments": {},
   "cell_type": "markdown",
   "metadata": {},
   "source": [
    "### **Load the engineered dataset to the data/processed folder for training model**"
   ]
  },
  {
   "cell_type": "code",
   "execution_count": null,
   "metadata": {},
   "outputs": [],
   "source": [
    "loan_borrower.to_csv('../../data/processed/loan_borrower.csv', index=False, mode='w+')"
   ]
  }
 ],
 "metadata": {
  "kernelspec": {
   "display_name": "env",
   "language": "python",
   "name": "python3"
  },
  "language_info": {
   "codemirror_mode": {
    "name": "ipython",
    "version": 3
   },
   "file_extension": ".py",
   "mimetype": "text/x-python",
   "name": "python",
   "nbconvert_exporter": "python",
   "pygments_lexer": "ipython3",
   "version": "3.8.10"
  },
  "orig_nbformat": 4,
  "vscode": {
   "interpreter": {
    "hash": "3a94584c251ba390cd0d7d3feb16480bd36f8fef5ed2047cf1953ef62d428829"
   }
  }
 },
 "nbformat": 4,
 "nbformat_minor": 2
}
