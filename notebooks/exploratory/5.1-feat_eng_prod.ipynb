{
 "cells": [
  {
   "cell_type": "code",
   "execution_count": 1,
   "metadata": {},
   "outputs": [],
   "source": [
    "import numpy as np\n",
    "import pandas as pd"
   ]
  },
  {
   "cell_type": "code",
   "execution_count": 2,
   "metadata": {},
   "outputs": [],
   "source": [
    "from sklearn.preprocessing import OrdinalEncoder"
   ]
  },
  {
   "cell_type": "code",
   "execution_count": 3,
   "metadata": {},
   "outputs": [],
   "source": [
    "loan_borrower_prod = pd.read_csv('../../data/interim/loan_borrower_prod.csv')"
   ]
  },
  {
   "attachments": {},
   "cell_type": "markdown",
   "metadata": {},
   "source": [
    "---"
   ]
  },
  {
   "attachments": {},
   "cell_type": "markdown",
   "metadata": {},
   "source": [
    "**Engineer Features for Production Model**"
   ]
  },
  {
   "cell_type": "code",
   "execution_count": 5,
   "metadata": {},
   "outputs": [],
   "source": [
    "loan_borrower_prod['term_in_months'] = loan_borrower_prod['term'].apply(lambda x: int(x.split(' ')[0]))"
   ]
  },
  {
   "cell_type": "code",
   "execution_count": 8,
   "metadata": {},
   "outputs": [],
   "source": [
    "loan_borrower_prod = loan_borrower_prod.drop(columns=['loan_id', 'member_id', 'date', 'term'])"
   ]
  },
  {
   "cell_type": "code",
   "execution_count": 10,
   "metadata": {},
   "outputs": [],
   "source": [
    "ordinal_encoder = OrdinalEncoder(categories=[['< 1 year', '1 year', '2-5 years', '6-9 years', '10+ years']])\n",
    "years_employment = ordinal_encoder.fit_transform(loan_borrower_prod.years_employment.apply(lambda x: [x]).to_list())"
   ]
  },
  {
   "cell_type": "code",
   "execution_count": 11,
   "metadata": {},
   "outputs": [],
   "source": [
    "loan_borrower_prod.drop(columns='years_employment', inplace=True)"
   ]
  },
  {
   "cell_type": "code",
   "execution_count": 12,
   "metadata": {},
   "outputs": [],
   "source": [
    "loan_borrower_prod = pd.get_dummies(loan_borrower_prod)"
   ]
  },
  {
   "cell_type": "code",
   "execution_count": 13,
   "metadata": {},
   "outputs": [],
   "source": [
    "loan_borrower_prod['years_employment'] = years_employment.flatten()"
   ]
  },
  {
   "cell_type": "code",
   "execution_count": 14,
   "metadata": {},
   "outputs": [],
   "source": [
    "cols = loan_borrower_prod.columns.tolist()\n",
    "loan_borrower_prod = loan_borrower_prod[cols[:8] + [cols[-1]] + cols[8:-1]]"
   ]
  },
  {
   "attachments": {},
   "cell_type": "markdown",
   "metadata": {},
   "source": [
    "---"
   ]
  },
  {
   "cell_type": "code",
   "execution_count": 15,
   "metadata": {},
   "outputs": [],
   "source": [
    "loan_borrower = pd.read_csv('../../data/processed/loan_borrower.csv')"
   ]
  },
  {
   "cell_type": "code",
   "execution_count": 16,
   "metadata": {},
   "outputs": [
    {
     "name": "stdout",
     "output_type": "stream",
     "text": [
      "<class 'pandas.core.frame.DataFrame'>\n",
      "RangeIndex: 99983 entries, 0 to 99982\n",
      "Data columns (total 94 columns):\n",
      " #   Column                      Non-Null Count  Dtype  \n",
      "---  ------                      --------------  -----  \n",
      " 0   is_joint_application        99983 non-null  float64\n",
      " 1   loan_amount                 99983 non-null  float64\n",
      " 2   term_in_months              99983 non-null  float64\n",
      " 3   interest_rate               99983 non-null  float64\n",
      " 4   monthly_payment             99983 non-null  int64  \n",
      " 5   loan_status                 99983 non-null  int64  \n",
      " 6   annual_income               99983 non-null  int64  \n",
      " 7   income_verified             99983 non-null  int64  \n",
      " 8   years_employment            99983 non-null  float64\n",
      " 9   dti_ratio                   99983 non-null  float64\n",
      " 10  length_credit_history       99983 non-null  int64  \n",
      " 11  n_total_credit_lines        99983 non-null  int64  \n",
      " 12  n_open_credit_lines         99983 non-null  float64\n",
      " 13  n_open_credit_lines_1_year  99983 non-null  int64  \n",
      " 14  revolving_balance           99983 non-null  int64  \n",
      " 15  revolving_utilization_rate  99983 non-null  float64\n",
      " 16  n_derogatory_record         99983 non-null  int64  \n",
      " 17  n_delinquency_2_years       99983 non-null  int64  \n",
      " 18  n_charge_off_1_year         99983 non-null  int64  \n",
      " 19  n_inquiries_6_months        99983 non-null  int64  \n",
      " 20  purpose_Auto                99983 non-null  int64  \n",
      " 21  purpose_Business            99983 non-null  int64  \n",
      " 22  purpose_Debt Consolidation  99983 non-null  int64  \n",
      " 23  purpose_Education           99983 non-null  int64  \n",
      " 24  purpose_Healthcare          99983 non-null  int64  \n",
      " 25  purpose_Home Improvement    99983 non-null  int64  \n",
      " 26  purpose_Other               99983 non-null  int64  \n",
      " 27  grade_A1                    99983 non-null  int64  \n",
      " 28  grade_A2                    99983 non-null  int64  \n",
      " 29  grade_A3                    99983 non-null  int64  \n",
      " 30  grade_B1                    99983 non-null  int64  \n",
      " 31  grade_B2                    99983 non-null  int64  \n",
      " 32  grade_B3                    99983 non-null  int64  \n",
      " 33  grade_C1                    99983 non-null  int64  \n",
      " 34  grade_C2                    99983 non-null  int64  \n",
      " 35  grade_C3                    99983 non-null  int64  \n",
      " 36  grade_D1                    99983 non-null  int64  \n",
      " 37  grade_D2                    99983 non-null  int64  \n",
      " 38  grade_D3                    99983 non-null  int64  \n",
      " 39  grade_E1                    99983 non-null  int64  \n",
      " 40  grade_E2                    99983 non-null  int64  \n",
      " 41  grade_E3                    99983 non-null  int64  \n",
      " 42  residential_state_AL        99983 non-null  int64  \n",
      " 43  residential_state_AR        99983 non-null  int64  \n",
      " 44  residential_state_AZ        99983 non-null  int64  \n",
      " 45  residential_state_CA        99983 non-null  int64  \n",
      " 46  residential_state_CO        99983 non-null  int64  \n",
      " 47  residential_state_CT        99983 non-null  int64  \n",
      " 48  residential_state_DC        99983 non-null  int64  \n",
      " 49  residential_state_DE        99983 non-null  int64  \n",
      " 50  residential_state_FL        99983 non-null  int64  \n",
      " 51  residential_state_GA        99983 non-null  int64  \n",
      " 52  residential_state_IA        99983 non-null  int64  \n",
      " 53  residential_state_ID        99983 non-null  int64  \n",
      " 54  residential_state_IL        99983 non-null  int64  \n",
      " 55  residential_state_IN        99983 non-null  int64  \n",
      " 56  residential_state_KS        99983 non-null  int64  \n",
      " 57  residential_state_KY        99983 non-null  int64  \n",
      " 58  residential_state_LA        99983 non-null  int64  \n",
      " 59  residential_state_MA        99983 non-null  int64  \n",
      " 60  residential_state_MD        99983 non-null  int64  \n",
      " 61  residential_state_ME        99983 non-null  int64  \n",
      " 62  residential_state_MI        99983 non-null  int64  \n",
      " 63  residential_state_MN        99983 non-null  int64  \n",
      " 64  residential_state_MO        99983 non-null  int64  \n",
      " 65  residential_state_MS        99983 non-null  int64  \n",
      " 66  residential_state_MT        99983 non-null  int64  \n",
      " 67  residential_state_NC        99983 non-null  int64  \n",
      " 68  residential_state_ND        99983 non-null  int64  \n",
      " 69  residential_state_NE        99983 non-null  int64  \n",
      " 70  residential_state_NH        99983 non-null  int64  \n",
      " 71  residential_state_NJ        99983 non-null  int64  \n",
      " 72  residential_state_NM        99983 non-null  int64  \n",
      " 73  residential_state_NV        99983 non-null  int64  \n",
      " 74  residential_state_NY        99983 non-null  int64  \n",
      " 75  residential_state_OH        99983 non-null  int64  \n",
      " 76  residential_state_OK        99983 non-null  int64  \n",
      " 77  residential_state_OR        99983 non-null  int64  \n",
      " 78  residential_state_PA        99983 non-null  int64  \n",
      " 79  residential_state_RI        99983 non-null  int64  \n",
      " 80  residential_state_SC        99983 non-null  int64  \n",
      " 81  residential_state_SD        99983 non-null  int64  \n",
      " 82  residential_state_TN        99983 non-null  int64  \n",
      " 83  residential_state_TX        99983 non-null  int64  \n",
      " 84  residential_state_UT        99983 non-null  int64  \n",
      " 85  residential_state_VA        99983 non-null  int64  \n",
      " 86  residential_state_VT        99983 non-null  int64  \n",
      " 87  residential_state_WA        99983 non-null  int64  \n",
      " 88  residential_state_WI        99983 non-null  int64  \n",
      " 89  residential_state_WV        99983 non-null  int64  \n",
      " 90  residential_state_WY        99983 non-null  int64  \n",
      " 91  home_ownership_mortgage     99983 non-null  int64  \n",
      " 92  home_ownership_own          99983 non-null  int64  \n",
      " 93  home_ownership_rent         99983 non-null  int64  \n",
      "dtypes: float64(8), int64(86)\n",
      "memory usage: 71.7 MB\n"
     ]
    }
   ],
   "source": [
    "loan_borrower.info()"
   ]
  },
  {
   "cell_type": "code",
   "execution_count": 17,
   "metadata": {},
   "outputs": [
    {
     "name": "stdout",
     "output_type": "stream",
     "text": [
      "<class 'pandas.core.frame.DataFrame'>\n",
      "RangeIndex: 2992 entries, 0 to 2991\n",
      "Data columns (total 83 columns):\n",
      " #   Column                      Non-Null Count  Dtype  \n",
      "---  ------                      --------------  -----  \n",
      " 0   is_joint_application        2992 non-null   float64\n",
      " 1   loan_amount                 2992 non-null   float64\n",
      " 2   interest_rate               2992 non-null   float64\n",
      " 3   monthly_payment             2992 non-null   float64\n",
      " 4   loan_status                 0 non-null      float64\n",
      " 5   annual_income               2992 non-null   int64  \n",
      " 6   income_verified             2992 non-null   int64  \n",
      " 7   dti_ratio                   2992 non-null   float64\n",
      " 8   years_employment            2992 non-null   float64\n",
      " 9   length_credit_history       2992 non-null   int64  \n",
      " 10  n_total_credit_lines        2992 non-null   int64  \n",
      " 11  n_open_credit_lines         2992 non-null   int64  \n",
      " 12  n_open_credit_lines_1_year  2992 non-null   int64  \n",
      " 13  revolving_balance           2992 non-null   int64  \n",
      " 14  revolving_utilization_rate  2992 non-null   float64\n",
      " 15  n_derogatory_record         2992 non-null   int64  \n",
      " 16  n_delinquency_2_years       2992 non-null   int64  \n",
      " 17  n_charge_off_1_year         2992 non-null   int64  \n",
      " 18  n_inquiries_6_months        2992 non-null   float64\n",
      " 19  term_in_months              2992 non-null   int64  \n",
      " 20  purpose_Auto                2992 non-null   uint8  \n",
      " 21  purpose_Business            2992 non-null   uint8  \n",
      " 22  purpose_Debt Consolidation  2992 non-null   uint8  \n",
      " 23  purpose_Education           2992 non-null   uint8  \n",
      " 24  purpose_Healthcare          2992 non-null   uint8  \n",
      " 25  purpose_Home Improvement    2992 non-null   uint8  \n",
      " 26  purpose_Other               2992 non-null   uint8  \n",
      " 27  grade_A1                    2992 non-null   uint8  \n",
      " 28  grade_A2                    2992 non-null   uint8  \n",
      " 29  grade_A3                    2992 non-null   uint8  \n",
      " 30  grade_B1                    2992 non-null   uint8  \n",
      " 31  grade_B2                    2992 non-null   uint8  \n",
      " 32  grade_B3                    2992 non-null   uint8  \n",
      " 33  grade_C1                    2992 non-null   uint8  \n",
      " 34  grade_C2                    2992 non-null   uint8  \n",
      " 35  grade_C3                    2992 non-null   uint8  \n",
      " 36  grade_D1                    2992 non-null   uint8  \n",
      " 37  grade_D2                    2992 non-null   uint8  \n",
      " 38  grade_D3                    2992 non-null   uint8  \n",
      " 39  grade_E1                    2992 non-null   uint8  \n",
      " 40  grade_E2                    2992 non-null   uint8  \n",
      " 41  grade_E3                    2992 non-null   uint8  \n",
      " 42  residential_state_AL        2992 non-null   uint8  \n",
      " 43  residential_state_AR        2992 non-null   uint8  \n",
      " 44  residential_state_AZ        2992 non-null   uint8  \n",
      " 45  residential_state_CA        2992 non-null   uint8  \n",
      " 46  residential_state_CO        2992 non-null   uint8  \n",
      " 47  residential_state_CT        2992 non-null   uint8  \n",
      " 48  residential_state_DC        2992 non-null   uint8  \n",
      " 49  residential_state_DE        2992 non-null   uint8  \n",
      " 50  residential_state_FL        2992 non-null   uint8  \n",
      " 51  residential_state_GA        2992 non-null   uint8  \n",
      " 52  residential_state_IA        2992 non-null   uint8  \n",
      " 53  residential_state_IL        2992 non-null   uint8  \n",
      " 54  residential_state_IN        2992 non-null   uint8  \n",
      " 55  residential_state_KS        2992 non-null   uint8  \n",
      " 56  residential_state_KY        2992 non-null   uint8  \n",
      " 57  residential_state_LA        2992 non-null   uint8  \n",
      " 58  residential_state_MA        2992 non-null   uint8  \n",
      " 59  residential_state_MD        2992 non-null   uint8  \n",
      " 60  residential_state_ME        2992 non-null   uint8  \n",
      " 61  residential_state_MI        2992 non-null   uint8  \n",
      " 62  residential_state_MN        2992 non-null   uint8  \n",
      " 63  residential_state_MO        2992 non-null   uint8  \n",
      " 64  residential_state_MS        2992 non-null   uint8  \n",
      " 65  residential_state_MT        2992 non-null   uint8  \n",
      " 66  residential_state_NE        2992 non-null   uint8  \n",
      " 67  residential_state_NH        2992 non-null   uint8  \n",
      " 68  residential_state_NJ        2992 non-null   uint8  \n",
      " 69  residential_state_NM        2992 non-null   uint8  \n",
      " 70  residential_state_NV        2992 non-null   uint8  \n",
      " 71  residential_state_NY        2992 non-null   uint8  \n",
      " 72  residential_state_OR        2992 non-null   uint8  \n",
      " 73  residential_state_PA        2992 non-null   uint8  \n",
      " 74  residential_state_RI        2992 non-null   uint8  \n",
      " 75  residential_state_SC        2992 non-null   uint8  \n",
      " 76  residential_state_SD        2992 non-null   uint8  \n",
      " 77  residential_state_TN        2992 non-null   uint8  \n",
      " 78  residential_state_TX        2992 non-null   uint8  \n",
      " 79  residential_state_WA        2992 non-null   uint8  \n",
      " 80  home_ownership_mortgage     2992 non-null   uint8  \n",
      " 81  home_ownership_own          2992 non-null   uint8  \n",
      " 82  home_ownership_rent         2992 non-null   uint8  \n",
      "dtypes: float64(9), int64(11), uint8(63)\n",
      "memory usage: 651.7 KB\n"
     ]
    }
   ],
   "source": [
    "loan_borrower_prod.info()"
   ]
  },
  {
   "cell_type": "code",
   "execution_count": 18,
   "metadata": {},
   "outputs": [],
   "source": [
    "extra_columns = loan_borrower.columns.difference(loan_borrower_prod.columns)\n",
    "for extra_column in extra_columns:\n",
    "   loan_borrower_prod[extra_column] = 0"
   ]
  },
  {
   "cell_type": "code",
   "execution_count": 19,
   "metadata": {},
   "outputs": [],
   "source": [
    "loan_borrower_prod = loan_borrower_prod[loan_borrower.columns]"
   ]
  },
  {
   "cell_type": "code",
   "execution_count": 20,
   "metadata": {},
   "outputs": [],
   "source": [
    "loan_borrower_prod.to_csv('../../data/processed/loan_borrower_prod.csv', index=False, mode='w+')"
   ]
  }
 ],
 "metadata": {
  "kernelspec": {
   "display_name": "env",
   "language": "python",
   "name": "python3"
  },
  "language_info": {
   "codemirror_mode": {
    "name": "ipython",
    "version": 3
   },
   "file_extension": ".py",
   "mimetype": "text/x-python",
   "name": "python",
   "nbconvert_exporter": "python",
   "pygments_lexer": "ipython3",
   "version": "3.8.10"
  },
  "orig_nbformat": 4,
  "vscode": {
   "interpreter": {
    "hash": "3a94584c251ba390cd0d7d3feb16480bd36f8fef5ed2047cf1953ef62d428829"
   }
  }
 },
 "nbformat": 4,
 "nbformat_minor": 2
}
